{
 "cells": [
  {
   "cell_type": "code",
   "execution_count": 1,
   "metadata": {},
   "outputs": [],
   "source": [
    "from cdqa.pipeline import QAPipeline"
   ]
  },
  {
   "cell_type": "code",
   "execution_count": 2,
   "metadata": {},
   "outputs": [],
   "source": [
    "import pandas as pd\n",
    "from ast import literal_eval"
   ]
  },
  {
   "cell_type": "code",
   "execution_count": 5,
   "metadata": {},
   "outputs": [],
   "source": [
    "cdqa_pipeline = QAPipeline(reader='../../Closed_Domain_QA/army_act_pdf/distilbert_indexed40_41_reader.joblib',)"
   ]
  },
  {
   "cell_type": "code",
   "execution_count": 10,
   "metadata": {},
   "outputs": [],
   "source": [
    "df = pd.read_json('../../Closed_Domain_QA/army_act_pdf/trans_qa_data.json',orient='records')"
   ]
  },
  {
   "cell_type": "code",
   "execution_count": 11,
   "metadata": {},
   "outputs": [
    {
     "data": {
      "text/html": [
       "<div>\n",
       "<style scoped>\n",
       "    .dataframe tbody tr th:only-of-type {\n",
       "        vertical-align: middle;\n",
       "    }\n",
       "\n",
       "    .dataframe tbody tr th {\n",
       "        vertical-align: top;\n",
       "    }\n",
       "\n",
       "    .dataframe thead th {\n",
       "        text-align: right;\n",
       "    }\n",
       "</style>\n",
       "<table border=\"1\" class=\"dataframe\">\n",
       "  <thead>\n",
       "    <tr style=\"text-align: right;\">\n",
       "      <th></th>\n",
       "      <th>title</th>\n",
       "      <th>paragraphs</th>\n",
       "    </tr>\n",
       "  </thead>\n",
       "  <tbody>\n",
       "    <tr>\n",
       "      <th>0</th>\n",
       "      <td>offence type ct 40 main text</td>\n",
       "      <td>[a) \\tuses criminal force to or assaults his s...</td>\n",
       "    </tr>\n",
       "    <tr>\n",
       "      <th>1</th>\n",
       "      <td>imprisonment act 40 main text</td>\n",
       "      <td>[if such officer is at the time in the executi...</td>\n",
       "    </tr>\n",
       "    <tr>\n",
       "      <th>2</th>\n",
       "      <td>criminal force example 40 note 2 a i</td>\n",
       "      <td>[A throws a stone at B. If the stone hits B, A...</td>\n",
       "    </tr>\n",
       "    <tr>\n",
       "      <th>3</th>\n",
       "      <td>assault example act 40 note 2 a ii</td>\n",
       "      <td>[A, during an altercation with B, picks up a s...</td>\n",
       "    </tr>\n",
       "    <tr>\n",
       "      <th>4</th>\n",
       "      <td>assult and criminal force similarity act 40 no...</td>\n",
       "      <td>[An 'assault' is something less than the use o...</td>\n",
       "    </tr>\n",
       "  </tbody>\n",
       "</table>\n",
       "</div>"
      ],
      "text/plain": [
       "                                               title                                         paragraphs\n",
       "0                       offence type ct 40 main text  [a) \\tuses criminal force to or assaults his s...\n",
       "1                      imprisonment act 40 main text  [if such officer is at the time in the executi...\n",
       "2               criminal force example 40 note 2 a i  [A throws a stone at B. If the stone hits B, A...\n",
       "3                 assault example act 40 note 2 a ii  [A, during an altercation with B, picks up a s...\n",
       "4  assult and criminal force similarity act 40 no...  [An 'assault' is something less than the use o..."
      ]
     },
     "execution_count": 11,
     "metadata": {},
     "output_type": "execute_result"
    }
   ],
   "source": [
    "df.head()"
   ]
  },
  {
   "cell_type": "code",
   "execution_count": 12,
   "metadata": {},
   "outputs": [
    {
     "data": {
      "text/plain": [
       "QAPipeline(reader=BertQA(adam_epsilon=1e-08,\n",
       "                         bert_model='distilbert-base-uncased',\n",
       "                         do_lower_case=True, fp16=False,\n",
       "                         gradient_accumulation_steps=1, learning_rate=5e-05,\n",
       "                         local_rank=-1, loss_scale=0, max_answer_length=30,\n",
       "                         n_best_size=20, no_cuda=False,\n",
       "                         null_score_diff_threshold=0.0, num_train_epochs=3.0,\n",
       "                         output_dir=None, predict_batch_size=8, seed=42,\n",
       "                         server_ip='', ser...size=8,\n",
       "                         verbose_logging=False, version_2_with_negative=False,\n",
       "                         warmup_proportion=0.1, warmup_steps=0),\n",
       "           retrieve_by_doc=False,\n",
       "           retriever=BM25Retriever(b=0.75, floor=None, k1=2.0, lowercase=True,\n",
       "                                   max_df=0.85, min_df=2, ngram_range=(1, 2),\n",
       "                                   preprocessor=None, stop_words='english',\n",
       "                                   token_pattern='(?u)\\\\b\\\\w\\\\w+\\\\b',\n",
       "                                   tokenizer=None, top_n=20, verbose=False,\n",
       "                                   vocabulary=None))"
      ]
     },
     "execution_count": 12,
     "metadata": {},
     "output_type": "execute_result"
    }
   ],
   "source": [
    "cdqa_pipeline.fit_retriever(df=df)"
   ]
  },
  {
   "cell_type": "code",
   "execution_count": 16,
   "metadata": {},
   "outputs": [
    {
     "data": {
      "text/plain": [
       "[('cannot give a lawful command to a person who is, by the terms of such restrictions, placed outside his control',\n",
       "  'act 41 note 5 a',\n",
       "  \"(a) Superior officer; see AA.s.3(xxiii).—A 'superior officer' whose command has been restricted, either by the terms of his commission or by regulations, cannot give a lawful command to a person who is, by the terms of such restrictions, placed outside his control\",\n",
       "  5.805491913207691),\n",
       " ('Sec 3(xxiii) of Army Act',\n",
       "  'act 40 note 6 a',\n",
       "  \"The definition of Superior Officer is given in Sec 3(xxiii) of Army Act. Further, The expression 'superior officer' in this section and in AA.s.41 means not only a superior in rank but also a senior in the same grade where that seniority gives power of command according to the usages of the service, but one sepoy can never be the 'Superior officer' of another. The court should be satisfied, before conviction, that the accused knew the person, with respect to whom the offence was committed, to be a superior officer .If the superior did not wear the insignia of his rank, and was not personally known to the accused, evidence would be necessary to show that the accused was otherwise aware of his being his superior officer, or had reason to believe him, to be this superior officer. If such evidence is not available, the accused should be charged under AA.s.63 or 69.Note 6 (c) of Sec 40.\",\n",
       "  5.605831252374328),\n",
       " ('in plain clothes',\n",
       "  'act 40 note 7 b',\n",
       "  \"It is difficult accurately to define the words 'in the execution of his office', but the military knowledge and experience of the members of a court-martial will enable them in most instances readily to determine whether the superior officer was or was not in the execution of his office. A superior officer in plain clothes may undoubtedly be in the execution of his office; but where the superior officer is in plain clothes, it becomes necessary to prove some knowledge on the part of the accused at the time of the offence that the person who was assaulted or to whom criminal force was used was a superior officer and that he was known to the accused as such, which is not the case where the superior officer is in uniform. On the other hand, there may be circumstances in which a superior officer in uniform is not in the execution of his office. It may be taken in general that using criminal force to or assaulting any superior officer by a person subject to AA over whom it is, at the relevant time, the duty of that superior officer to maintain discipline, would be using criminal force to or assaulting him in the execution of his office\",\n",
       "  5.5407190223877265),\n",
       " ('a superior in rank but also a senior in the same grade where that seniority gives power of command according to the usages of the service',\n",
       "  'act 40 note 6 c',\n",
       "  \"The expression 'superior officer' in this section and in AA.s.41 means not only a superior in rank but also a senior in the same grade where that seniority gives power of command according to the usages of the service, but one sepoy can never be the 'Superior officer' of another. The court should be satisfied, before conviction, that the accused knew the person, with respect to whom the offence was committed, to be a superior officer .If the superior did not wear the insignia of his rank, and was not personally known to the accused, evidence would be necessary to show that the accused was otherwise aware of his being his superior officer, or had reason to believe him, to be this superior officer. If such evidence is not available, the accused should be charged under AA.s.63 or 69\",\n",
       "  5.456103754668866),\n",
       " ('an offence',\n",
       "  'act 40 note 11',\n",
       "  'Expressions used of a superior officer and not within his hearing, or which cannot be proved to be used to a superior officer, must be charged as an offence under AA.s.63, and not under this section, but the use of threatening or otherwise insubordinate language regarding one superior to (in the sense that it is intended to be heard by) another superior constitutes an offence of using threatening or insubordinate language under this section.',\n",
       "  5.263252222952981)]"
      ]
     },
     "execution_count": 16,
     "metadata": {},
     "output_type": "execute_result"
    }
   ],
   "source": [
    "cdqa_pipeline.predict(query='What is the definition of superior officer?',n_predictions=5, return_all_preds=True, retriever_score_weight=0.99)"
   ]
  },
  {
   "cell_type": "code",
   "execution_count": null,
   "metadata": {},
   "outputs": [],
   "source": []
  },
  {
   "cell_type": "code",
   "execution_count": null,
   "metadata": {},
   "outputs": [],
   "source": []
  },
  {
   "cell_type": "code",
   "execution_count": 1,
   "metadata": {},
   "outputs": [],
   "source": [
    "from transformers import pipeline"
   ]
  },
  {
   "cell_type": "code",
   "execution_count": 2,
   "metadata": {},
   "outputs": [],
   "source": [
    "import transformers "
   ]
  },
  {
   "cell_type": "code",
   "execution_count": 3,
   "metadata": {},
   "outputs": [
    {
     "data": {
      "text/plain": [
       "'2.3.0'"
      ]
     },
     "execution_count": 3,
     "metadata": {},
     "output_type": "execute_result"
    }
   ],
   "source": [
    "transformers.__version__"
   ]
  },
  {
   "cell_type": "code",
   "execution_count": 4,
   "metadata": {},
   "outputs": [],
   "source": [
    "nlp = pipeline('question-answering')"
   ]
  },
  {
   "cell_type": "code",
   "execution_count": 10,
   "metadata": {},
   "outputs": [],
   "source": [
    "(a,b) = [\"The definition of Superior Officer is given in Sec 3(xxiii) of Army Act. Further, The expression 'superior officer' in this section and in AA.s.41 means not only a superior in rank but also a senior in the same grade where that seniority gives power of command according to the usages of the service, but one sepoy can never be the 'Superior officer' of another. The court should be satisfied, before conviction, that the accused knew the person, with respect to whom the offence was committed, to be a superior officer .If the superior did not wear the insignia of his rank, and was not personally known to the accused, evidence would be necessary to show that the accused was otherwise aware of his being his superior officer, or had reason to believe him, to be this superior officer. If such evidence is not available, the accused should be charged under AA.s.63 or 69.Note 6 (c) of Sec 40.\",\"The expression 'superior officer' in this section and in AA.s.41 means not only a superior in rank but also a senior in the same grade where that seniority gives power of command according to the usages of the service, but one sepoy can never be the 'Superior officer' of another. The court should be satisfied, before conviction, that the accused knew the person, with respect to whom the offence was committed, to be a superior officer .If the superior did not wear the insignia of his rank, and was not personally known to the accused, evidence would be necessary to show that the accused was otherwise aware of his being his superior officer, or had reason to believe him, to be this superior officer. If such evidence is not available, the accused should be charged under AA.s.63 or 69\"]"
   ]
  },
  {
   "cell_type": "code",
   "execution_count": 11,
   "metadata": {},
   "outputs": [],
   "source": [
    "context = [b,a]"
   ]
  },
  {
   "cell_type": "code",
   "execution_count": 12,
   "metadata": {},
   "outputs": [
    {
     "name": "stderr",
     "output_type": "stream",
     "text": [
      "Converting examples to features: 100%|██████████| 1/1 [00:00<00:00, 87.19it/s]\n"
     ]
    },
    {
     "data": {
      "text/plain": [
       "'a superior in rank but also a senior in the same grade'"
      ]
     },
     "execution_count": 12,
     "metadata": {},
     "output_type": "execute_result"
    }
   ],
   "source": [
    "nlp(context=context, question=\"What is the definition of superior officer?\").get('answer')"
   ]
  },
  {
   "cell_type": "code",
   "execution_count": null,
   "metadata": {},
   "outputs": [],
   "source": []
  }
 ],
 "metadata": {
  "kernelspec": {
   "display_name": "conda_pytorch_p36",
   "language": "python",
   "name": "conda_pytorch_p36"
  },
  "language_info": {
   "codemirror_mode": {
    "name": "ipython",
    "version": 3
   },
   "file_extension": ".py",
   "mimetype": "text/x-python",
   "name": "python",
   "nbconvert_exporter": "python",
   "pygments_lexer": "ipython3",
   "version": "3.6.5"
  }
 },
 "nbformat": 4,
 "nbformat_minor": 4
}
