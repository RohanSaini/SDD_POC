{
 "cells": [
  {
   "cell_type": "code",
   "execution_count": 1,
   "metadata": {},
   "outputs": [],
   "source": [
    "## Load JSONs"
   ]
  },
  {
   "cell_type": "code",
   "execution_count": 2,
   "metadata": {},
   "outputs": [],
   "source": [
    "import pandas as pd"
   ]
  },
  {
   "cell_type": "code",
   "execution_count": 29,
   "metadata": {},
   "outputs": [],
   "source": [
    "data1 = pd.read_json('../index used/aa41and40.json')\n",
    "data1['source'] = '../index used/aa41and40.json'\n",
    "data2 = pd.read_json('../index used/coiindex.json')\n",
    "data2['source'] = '../index used/coiindex.json'\n",
    "data3 = pd.read_json('../index used/hocindex.json')\n",
    "data3['source'] = '../index used/hocindex.json'"
   ]
  },
  {
   "cell_type": "code",
   "execution_count": null,
   "metadata": {},
   "outputs": [],
   "source": []
  },
  {
   "cell_type": "code",
   "execution_count": 30,
   "metadata": {},
   "outputs": [],
   "source": [
    "data = pd.concat([data1,data2,data3],axis=0, sort=False, ignore_index=True)"
   ]
  },
  {
   "cell_type": "code",
   "execution_count": 31,
   "metadata": {},
   "outputs": [
    {
     "data": {
      "text/plain": [
       "(115, 5)"
      ]
     },
     "execution_count": 31,
     "metadata": {},
     "output_type": "execute_result"
    }
   ],
   "source": [
    "data.shape"
   ]
  },
  {
   "cell_type": "code",
   "execution_count": 32,
   "metadata": {},
   "outputs": [
    {
     "data": {
      "text/html": [
       "<div>\n",
       "<style scoped>\n",
       "    .dataframe tbody tr th:only-of-type {\n",
       "        vertical-align: middle;\n",
       "    }\n",
       "\n",
       "    .dataframe tbody tr th {\n",
       "        vertical-align: top;\n",
       "    }\n",
       "\n",
       "    .dataframe thead th {\n",
       "        text-align: right;\n",
       "    }\n",
       "</style>\n",
       "<table border=\"1\" class=\"dataframe\">\n",
       "  <thead>\n",
       "    <tr style=\"text-align: right;\">\n",
       "      <th></th>\n",
       "      <th>tag</th>\n",
       "      <th>questions</th>\n",
       "      <th>doc</th>\n",
       "      <th>source</th>\n",
       "      <th>asnwer</th>\n",
       "    </tr>\n",
       "  </thead>\n",
       "  <tbody>\n",
       "    <tr>\n",
       "      <th>0</th>\n",
       "      <td>offence type ct 40 main text</td>\n",
       "      <td>[what all offences comes under act 40, who com...</td>\n",
       "      <td>a) \\tuses criminal force to or assaults his su...</td>\n",
       "      <td>../index used/aa41and40.json</td>\n",
       "      <td>NaN</td>\n",
       "    </tr>\n",
       "    <tr>\n",
       "      <th>1</th>\n",
       "      <td>imprisonment act 40 main text</td>\n",
       "      <td>[imprisonment duration according to act 40, wh...</td>\n",
       "      <td>if such officer is at the time in the executio...</td>\n",
       "      <td>../index used/aa41and40.json</td>\n",
       "      <td>NaN</td>\n",
       "    </tr>\n",
       "    <tr>\n",
       "      <th>2</th>\n",
       "      <td>criminal force example 40 note 2 a i</td>\n",
       "      <td>[criminal force example, which instance comes ...</td>\n",
       "      <td>A throws a stone at B. If the stone hits B, A ...</td>\n",
       "      <td>../index used/aa41and40.json</td>\n",
       "      <td>NaN</td>\n",
       "    </tr>\n",
       "    <tr>\n",
       "      <th>3</th>\n",
       "      <td>assault example act 40 note 2 a ii</td>\n",
       "      <td>[assault example, which instance comes under a...</td>\n",
       "      <td>A, during an altercation with B, picks up a st...</td>\n",
       "      <td>../index used/aa41and40.json</td>\n",
       "      <td>NaN</td>\n",
       "    </tr>\n",
       "    <tr>\n",
       "      <th>4</th>\n",
       "      <td>assult and criminal force similarity act 40 no...</td>\n",
       "      <td>[difference between criminal force and assualt...</td>\n",
       "      <td>An 'assault' is something less than the use of...</td>\n",
       "      <td>../index used/aa41and40.json</td>\n",
       "      <td>NaN</td>\n",
       "    </tr>\n",
       "  </tbody>\n",
       "</table>\n",
       "</div>"
      ],
      "text/plain": [
       "                                                 tag  \\\n",
       "0                       offence type ct 40 main text   \n",
       "1                      imprisonment act 40 main text   \n",
       "2               criminal force example 40 note 2 a i   \n",
       "3                 assault example act 40 note 2 a ii   \n",
       "4  assult and criminal force similarity act 40 no...   \n",
       "\n",
       "                                           questions  \\\n",
       "0  [what all offences comes under act 40, who com...   \n",
       "1  [imprisonment duration according to act 40, wh...   \n",
       "2  [criminal force example, which instance comes ...   \n",
       "3  [assault example, which instance comes under a...   \n",
       "4  [difference between criminal force and assualt...   \n",
       "\n",
       "                                                 doc  \\\n",
       "0  a) \\tuses criminal force to or assaults his su...   \n",
       "1  if such officer is at the time in the executio...   \n",
       "2  A throws a stone at B. If the stone hits B, A ...   \n",
       "3  A, during an altercation with B, picks up a st...   \n",
       "4  An 'assault' is something less than the use of...   \n",
       "\n",
       "                         source asnwer  \n",
       "0  ../index used/aa41and40.json    NaN  \n",
       "1  ../index used/aa41and40.json    NaN  \n",
       "2  ../index used/aa41and40.json    NaN  \n",
       "3  ../index used/aa41and40.json    NaN  \n",
       "4  ../index used/aa41and40.json    NaN  "
      ]
     },
     "execution_count": 32,
     "metadata": {},
     "output_type": "execute_result"
    }
   ],
   "source": [
    "data.head()"
   ]
  },
  {
   "cell_type": "code",
   "execution_count": 33,
   "metadata": {},
   "outputs": [
    {
     "data": {
      "text/plain": [
       "Staff Court of Inquiry : A Staff Court of Inquiry may be assembled by a Formation Commander to inquire into matters concerning discipline. He may order a Staff C of I in addition to a Departmental Inquiry should he consider that disciplinary proceedings, may be a likely outcome of a departmental inquiry.                                                                                            1\n",
       "The Presiding Officer of the C of I (in consultation with the  staff of the Convening Authority) should prepare a list of  witnesses, indicating against each, the order, dates and likely  duration for which the witness is required.  Service witnesses  will be procured through  the Fmn Headquarters concerned for the required duration and returned as soon as their evidence has been recorded.     1\n",
       "Name: asnwer, dtype: int64"
      ]
     },
     "execution_count": 33,
     "metadata": {},
     "output_type": "execute_result"
    }
   ],
   "source": [
    "data.asnwer.value_counts()"
   ]
  },
  {
   "cell_type": "code",
   "execution_count": 34,
   "metadata": {},
   "outputs": [],
   "source": [
    "data.rename(columns={'asnwer':'answer', 'doc':'paragraph'}, inplace=True)"
   ]
  },
  {
   "cell_type": "code",
   "execution_count": 35,
   "metadata": {},
   "outputs": [
    {
     "data": {
      "text/html": [
       "<div>\n",
       "<style scoped>\n",
       "    .dataframe tbody tr th:only-of-type {\n",
       "        vertical-align: middle;\n",
       "    }\n",
       "\n",
       "    .dataframe tbody tr th {\n",
       "        vertical-align: top;\n",
       "    }\n",
       "\n",
       "    .dataframe thead th {\n",
       "        text-align: right;\n",
       "    }\n",
       "</style>\n",
       "<table border=\"1\" class=\"dataframe\">\n",
       "  <thead>\n",
       "    <tr style=\"text-align: right;\">\n",
       "      <th></th>\n",
       "      <th>tag</th>\n",
       "      <th>questions</th>\n",
       "      <th>paragraph</th>\n",
       "      <th>source</th>\n",
       "      <th>answer</th>\n",
       "    </tr>\n",
       "  </thead>\n",
       "  <tbody>\n",
       "    <tr>\n",
       "      <th>0</th>\n",
       "      <td>offence type ct 40 main text</td>\n",
       "      <td>[what all offences comes under act 40, who com...</td>\n",
       "      <td>a) \\tuses criminal force to or assaults his su...</td>\n",
       "      <td>../index used/aa41and40.json</td>\n",
       "      <td>NaN</td>\n",
       "    </tr>\n",
       "    <tr>\n",
       "      <th>1</th>\n",
       "      <td>imprisonment act 40 main text</td>\n",
       "      <td>[imprisonment duration according to act 40, wh...</td>\n",
       "      <td>if such officer is at the time in the executio...</td>\n",
       "      <td>../index used/aa41and40.json</td>\n",
       "      <td>NaN</td>\n",
       "    </tr>\n",
       "    <tr>\n",
       "      <th>2</th>\n",
       "      <td>criminal force example 40 note 2 a i</td>\n",
       "      <td>[criminal force example, which instance comes ...</td>\n",
       "      <td>A throws a stone at B. If the stone hits B, A ...</td>\n",
       "      <td>../index used/aa41and40.json</td>\n",
       "      <td>NaN</td>\n",
       "    </tr>\n",
       "    <tr>\n",
       "      <th>3</th>\n",
       "      <td>assault example act 40 note 2 a ii</td>\n",
       "      <td>[assault example, which instance comes under a...</td>\n",
       "      <td>A, during an altercation with B, picks up a st...</td>\n",
       "      <td>../index used/aa41and40.json</td>\n",
       "      <td>NaN</td>\n",
       "    </tr>\n",
       "    <tr>\n",
       "      <th>4</th>\n",
       "      <td>assult and criminal force similarity act 40 no...</td>\n",
       "      <td>[difference between criminal force and assualt...</td>\n",
       "      <td>An 'assault' is something less than the use of...</td>\n",
       "      <td>../index used/aa41and40.json</td>\n",
       "      <td>NaN</td>\n",
       "    </tr>\n",
       "  </tbody>\n",
       "</table>\n",
       "</div>"
      ],
      "text/plain": [
       "                                                 tag  \\\n",
       "0                       offence type ct 40 main text   \n",
       "1                      imprisonment act 40 main text   \n",
       "2               criminal force example 40 note 2 a i   \n",
       "3                 assault example act 40 note 2 a ii   \n",
       "4  assult and criminal force similarity act 40 no...   \n",
       "\n",
       "                                           questions  \\\n",
       "0  [what all offences comes under act 40, who com...   \n",
       "1  [imprisonment duration according to act 40, wh...   \n",
       "2  [criminal force example, which instance comes ...   \n",
       "3  [assault example, which instance comes under a...   \n",
       "4  [difference between criminal force and assualt...   \n",
       "\n",
       "                                           paragraph  \\\n",
       "0  a) \\tuses criminal force to or assaults his su...   \n",
       "1  if such officer is at the time in the executio...   \n",
       "2  A throws a stone at B. If the stone hits B, A ...   \n",
       "3  A, during an altercation with B, picks up a st...   \n",
       "4  An 'assault' is something less than the use of...   \n",
       "\n",
       "                         source answer  \n",
       "0  ../index used/aa41and40.json    NaN  \n",
       "1  ../index used/aa41and40.json    NaN  \n",
       "2  ../index used/aa41and40.json    NaN  \n",
       "3  ../index used/aa41and40.json    NaN  \n",
       "4  ../index used/aa41and40.json    NaN  "
      ]
     },
     "execution_count": 35,
     "metadata": {},
     "output_type": "execute_result"
    }
   ],
   "source": [
    "data.head()"
   ]
  },
  {
   "cell_type": "code",
   "execution_count": 27,
   "metadata": {},
   "outputs": [],
   "source": [
    "data.tag.loc[0] = 'offence type act 40 main text'"
   ]
  },
  {
   "cell_type": "code",
   "execution_count": 28,
   "metadata": {},
   "outputs": [
    {
     "data": {
      "text/html": [
       "<div>\n",
       "<style scoped>\n",
       "    .dataframe tbody tr th:only-of-type {\n",
       "        vertical-align: middle;\n",
       "    }\n",
       "\n",
       "    .dataframe tbody tr th {\n",
       "        vertical-align: top;\n",
       "    }\n",
       "\n",
       "    .dataframe thead th {\n",
       "        text-align: right;\n",
       "    }\n",
       "</style>\n",
       "<table border=\"1\" class=\"dataframe\">\n",
       "  <thead>\n",
       "    <tr style=\"text-align: right;\">\n",
       "      <th></th>\n",
       "      <th>tag</th>\n",
       "      <th>questions</th>\n",
       "      <th>paragraph</th>\n",
       "      <th>answer</th>\n",
       "    </tr>\n",
       "  </thead>\n",
       "  <tbody>\n",
       "    <tr>\n",
       "      <th>0</th>\n",
       "      <td>offence type act 40 main text</td>\n",
       "      <td>[what all offences comes under act 40, who com...</td>\n",
       "      <td>a) \\tuses criminal force to or assaults his su...</td>\n",
       "      <td>NaN</td>\n",
       "    </tr>\n",
       "    <tr>\n",
       "      <th>1</th>\n",
       "      <td>imprisonment act 40 main text</td>\n",
       "      <td>[imprisonment duration according to act 40, wh...</td>\n",
       "      <td>if such officer is at the time in the executio...</td>\n",
       "      <td>NaN</td>\n",
       "    </tr>\n",
       "    <tr>\n",
       "      <th>2</th>\n",
       "      <td>criminal force example 40 note 2 a i</td>\n",
       "      <td>[criminal force example, which instance comes ...</td>\n",
       "      <td>A throws a stone at B. If the stone hits B, A ...</td>\n",
       "      <td>NaN</td>\n",
       "    </tr>\n",
       "    <tr>\n",
       "      <th>3</th>\n",
       "      <td>assault example act 40 note 2 a ii</td>\n",
       "      <td>[assault example, which instance comes under a...</td>\n",
       "      <td>A, during an altercation with B, picks up a st...</td>\n",
       "      <td>NaN</td>\n",
       "    </tr>\n",
       "    <tr>\n",
       "      <th>4</th>\n",
       "      <td>assult and criminal force similarity act 40 no...</td>\n",
       "      <td>[difference between criminal force and assualt...</td>\n",
       "      <td>An 'assault' is something less than the use of...</td>\n",
       "      <td>NaN</td>\n",
       "    </tr>\n",
       "  </tbody>\n",
       "</table>\n",
       "</div>"
      ],
      "text/plain": [
       "                                                 tag  \\\n",
       "0                      offence type act 40 main text   \n",
       "1                      imprisonment act 40 main text   \n",
       "2               criminal force example 40 note 2 a i   \n",
       "3                 assault example act 40 note 2 a ii   \n",
       "4  assult and criminal force similarity act 40 no...   \n",
       "\n",
       "                                           questions  \\\n",
       "0  [what all offences comes under act 40, who com...   \n",
       "1  [imprisonment duration according to act 40, wh...   \n",
       "2  [criminal force example, which instance comes ...   \n",
       "3  [assault example, which instance comes under a...   \n",
       "4  [difference between criminal force and assualt...   \n",
       "\n",
       "                                           paragraph answer  \n",
       "0  a) \\tuses criminal force to or assaults his su...    NaN  \n",
       "1  if such officer is at the time in the executio...    NaN  \n",
       "2  A throws a stone at B. If the stone hits B, A ...    NaN  \n",
       "3  A, during an altercation with B, picks up a st...    NaN  \n",
       "4  An 'assault' is something less than the use of...    NaN  "
      ]
     },
     "execution_count": 28,
     "metadata": {},
     "output_type": "execute_result"
    }
   ],
   "source": [
    "data.head()"
   ]
  },
  {
   "cell_type": "code",
   "execution_count": 36,
   "metadata": {},
   "outputs": [
    {
     "data": {
      "text/plain": [
       "Staff Court of Inquiry : A Staff Court of Inquiry may be assembled by a Formation Commander to inquire into matters concerning discipline. He may order a Staff C of I in addition to a Departmental Inquiry should he consider that disciplinary proceedings, may be a likely outcome of a departmental inquiry.                                                                                            1\n",
       "The Presiding Officer of the C of I (in consultation with the  staff of the Convening Authority) should prepare a list of  witnesses, indicating against each, the order, dates and likely  duration for which the witness is required.  Service witnesses  will be procured through  the Fmn Headquarters concerned for the required duration and returned as soon as their evidence has been recorded.     1\n",
       "Name: answer, dtype: int64"
      ]
     },
     "execution_count": 36,
     "metadata": {},
     "output_type": "execute_result"
    }
   ],
   "source": [
    "data.answer.value_counts()"
   ]
  },
  {
   "cell_type": "code",
   "execution_count": 37,
   "metadata": {},
   "outputs": [
    {
     "data": {
      "text/plain": [
       "(115, 5)"
      ]
     },
     "execution_count": 37,
     "metadata": {},
     "output_type": "execute_result"
    }
   ],
   "source": [
    "data.shape"
   ]
  },
  {
   "cell_type": "code",
   "execution_count": 38,
   "metadata": {},
   "outputs": [
    {
     "data": {
      "text/plain": [
       "'/home/ec2-user/SageMaker/SDD_POC/data_preprocessing'"
      ]
     },
     "execution_count": 38,
     "metadata": {},
     "output_type": "execute_result"
    }
   ],
   "source": [
    "pwd"
   ]
  },
  {
   "cell_type": "code",
   "execution_count": 40,
   "metadata": {},
   "outputs": [],
   "source": [
    "data.to_csv('IndexedAct40_41.csv',index=False)"
   ]
  },
  {
   "cell_type": "code",
   "execution_count": null,
   "metadata": {},
   "outputs": [],
   "source": []
  }
 ],
 "metadata": {
  "kernelspec": {
   "display_name": "conda_pytorch_p36",
   "language": "python",
   "name": "conda_pytorch_p36"
  },
  "language_info": {
   "codemirror_mode": {
    "name": "ipython",
    "version": 3
   },
   "file_extension": ".py",
   "mimetype": "text/x-python",
   "name": "python",
   "nbconvert_exporter": "python",
   "pygments_lexer": "ipython3",
   "version": "3.6.5"
  }
 },
 "nbformat": 4,
 "nbformat_minor": 4
}
