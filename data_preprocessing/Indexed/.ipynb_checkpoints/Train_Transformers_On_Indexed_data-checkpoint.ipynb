{
 "cells": [
  {
   "cell_type": "markdown",
   "metadata": {},
   "source": [
    "## Train Transformers on Indexed Dataset"
   ]
  },
  {
   "cell_type": "code",
   "execution_count": 2,
   "metadata": {},
   "outputs": [],
   "source": [
    "## Get Data"
   ]
  },
  {
   "cell_type": "code",
   "execution_count": 3,
   "metadata": {},
   "outputs": [],
   "source": [
    "from cdqa.utils.converters import pdf_converter"
   ]
  },
  {
   "cell_type": "code",
   "execution_count": 4,
   "metadata": {},
   "outputs": [],
   "source": [
    "import pandas as pd"
   ]
  },
  {
   "cell_type": "code",
   "execution_count": 5,
   "metadata": {},
   "outputs": [],
   "source": [
    "df=pd.read_csv('../../SDD_POC/data_preprocessing/IndexedAct40_41.csv')"
   ]
  },
  {
   "cell_type": "code",
   "execution_count": 6,
   "metadata": {},
   "outputs": [
    {
     "data": {
      "text/html": [
       "<div>\n",
       "<style scoped>\n",
       "    .dataframe tbody tr th:only-of-type {\n",
       "        vertical-align: middle;\n",
       "    }\n",
       "\n",
       "    .dataframe tbody tr th {\n",
       "        vertical-align: top;\n",
       "    }\n",
       "\n",
       "    .dataframe thead th {\n",
       "        text-align: right;\n",
       "    }\n",
       "</style>\n",
       "<table border=\"1\" class=\"dataframe\">\n",
       "  <thead>\n",
       "    <tr style=\"text-align: right;\">\n",
       "      <th></th>\n",
       "      <th>tag</th>\n",
       "      <th>questions</th>\n",
       "      <th>paragraph</th>\n",
       "      <th>source</th>\n",
       "      <th>answer</th>\n",
       "    </tr>\n",
       "  </thead>\n",
       "  <tbody>\n",
       "    <tr>\n",
       "      <th>0</th>\n",
       "      <td>offence type ct 40 main text</td>\n",
       "      <td>['what all offences comes under act 40', 'who ...</td>\n",
       "      <td>a) \\tuses criminal force to or assaults his su...</td>\n",
       "      <td>../index used/aa41and40.json</td>\n",
       "      <td>NaN</td>\n",
       "    </tr>\n",
       "    <tr>\n",
       "      <th>1</th>\n",
       "      <td>imprisonment act 40 main text</td>\n",
       "      <td>['imprisonment duration according to act 40', ...</td>\n",
       "      <td>if such officer is at the time in the executio...</td>\n",
       "      <td>../index used/aa41and40.json</td>\n",
       "      <td>NaN</td>\n",
       "    </tr>\n",
       "    <tr>\n",
       "      <th>2</th>\n",
       "      <td>criminal force example 40 note 2 a i</td>\n",
       "      <td>['criminal force example', 'which instance com...</td>\n",
       "      <td>A throws a stone at B. If the stone hits B, A ...</td>\n",
       "      <td>../index used/aa41and40.json</td>\n",
       "      <td>NaN</td>\n",
       "    </tr>\n",
       "    <tr>\n",
       "      <th>3</th>\n",
       "      <td>assault example act 40 note 2 a ii</td>\n",
       "      <td>['assault example', 'which instance comes unde...</td>\n",
       "      <td>A, during an altercation with B, picks up a st...</td>\n",
       "      <td>../index used/aa41and40.json</td>\n",
       "      <td>NaN</td>\n",
       "    </tr>\n",
       "    <tr>\n",
       "      <th>4</th>\n",
       "      <td>assult and criminal force similarity act 40 no...</td>\n",
       "      <td>['difference between criminal force and assual...</td>\n",
       "      <td>An 'assault' is something less than the use of...</td>\n",
       "      <td>../index used/aa41and40.json</td>\n",
       "      <td>NaN</td>\n",
       "    </tr>\n",
       "  </tbody>\n",
       "</table>\n",
       "</div>"
      ],
      "text/plain": [
       "                                                 tag  \\\n",
       "0                       offence type ct 40 main text   \n",
       "1                      imprisonment act 40 main text   \n",
       "2               criminal force example 40 note 2 a i   \n",
       "3                 assault example act 40 note 2 a ii   \n",
       "4  assult and criminal force similarity act 40 no...   \n",
       "\n",
       "                                           questions  \\\n",
       "0  ['what all offences comes under act 40', 'who ...   \n",
       "1  ['imprisonment duration according to act 40', ...   \n",
       "2  ['criminal force example', 'which instance com...   \n",
       "3  ['assault example', 'which instance comes unde...   \n",
       "4  ['difference between criminal force and assual...   \n",
       "\n",
       "                                           paragraph  \\\n",
       "0  a) \\tuses criminal force to or assaults his su...   \n",
       "1  if such officer is at the time in the executio...   \n",
       "2  A throws a stone at B. If the stone hits B, A ...   \n",
       "3  A, during an altercation with B, picks up a st...   \n",
       "4  An 'assault' is something less than the use of...   \n",
       "\n",
       "                         source answer  \n",
       "0  ../index used/aa41and40.json    NaN  \n",
       "1  ../index used/aa41and40.json    NaN  \n",
       "2  ../index used/aa41and40.json    NaN  \n",
       "3  ../index used/aa41and40.json    NaN  \n",
       "4  ../index used/aa41and40.json    NaN  "
      ]
     },
     "execution_count": 6,
     "metadata": {},
     "output_type": "execute_result"
    }
   ],
   "source": [
    "df.head()"
   ]
  },
  {
   "cell_type": "code",
   "execution_count": 7,
   "metadata": {},
   "outputs": [],
   "source": [
    "df = df[['tag','paragraph']]"
   ]
  },
  {
   "cell_type": "code",
   "execution_count": 8,
   "metadata": {},
   "outputs": [],
   "source": [
    "df.rename(columns={'tag':'title','paragraph':'paragraphs'},inplace=True)"
   ]
  },
  {
   "cell_type": "code",
   "execution_count": 9,
   "metadata": {},
   "outputs": [
    {
     "data": {
      "text/html": [
       "<div>\n",
       "<style scoped>\n",
       "    .dataframe tbody tr th:only-of-type {\n",
       "        vertical-align: middle;\n",
       "    }\n",
       "\n",
       "    .dataframe tbody tr th {\n",
       "        vertical-align: top;\n",
       "    }\n",
       "\n",
       "    .dataframe thead th {\n",
       "        text-align: right;\n",
       "    }\n",
       "</style>\n",
       "<table border=\"1\" class=\"dataframe\">\n",
       "  <thead>\n",
       "    <tr style=\"text-align: right;\">\n",
       "      <th></th>\n",
       "      <th>title</th>\n",
       "      <th>paragraphs</th>\n",
       "    </tr>\n",
       "  </thead>\n",
       "  <tbody>\n",
       "    <tr>\n",
       "      <th>0</th>\n",
       "      <td>offence type ct 40 main text</td>\n",
       "      <td>a) \\tuses criminal force to or assaults his su...</td>\n",
       "    </tr>\n",
       "    <tr>\n",
       "      <th>1</th>\n",
       "      <td>imprisonment act 40 main text</td>\n",
       "      <td>if such officer is at the time in the executio...</td>\n",
       "    </tr>\n",
       "    <tr>\n",
       "      <th>2</th>\n",
       "      <td>criminal force example 40 note 2 a i</td>\n",
       "      <td>A throws a stone at B. If the stone hits B, A ...</td>\n",
       "    </tr>\n",
       "    <tr>\n",
       "      <th>3</th>\n",
       "      <td>assault example act 40 note 2 a ii</td>\n",
       "      <td>A, during an altercation with B, picks up a st...</td>\n",
       "    </tr>\n",
       "    <tr>\n",
       "      <th>4</th>\n",
       "      <td>assult and criminal force similarity act 40 no...</td>\n",
       "      <td>An 'assault' is something less than the use of...</td>\n",
       "    </tr>\n",
       "  </tbody>\n",
       "</table>\n",
       "</div>"
      ],
      "text/plain": [
       "                                               title  \\\n",
       "0                       offence type ct 40 main text   \n",
       "1                      imprisonment act 40 main text   \n",
       "2               criminal force example 40 note 2 a i   \n",
       "3                 assault example act 40 note 2 a ii   \n",
       "4  assult and criminal force similarity act 40 no...   \n",
       "\n",
       "                                          paragraphs  \n",
       "0  a) \\tuses criminal force to or assaults his su...  \n",
       "1  if such officer is at the time in the executio...  \n",
       "2  A throws a stone at B. If the stone hits B, A ...  \n",
       "3  A, during an altercation with B, picks up a st...  \n",
       "4  An 'assault' is something less than the use of...  "
      ]
     },
     "execution_count": 9,
     "metadata": {},
     "output_type": "execute_result"
    }
   ],
   "source": [
    "df.head()"
   ]
  },
  {
   "cell_type": "code",
   "execution_count": 10,
   "metadata": {},
   "outputs": [
    {
     "data": {
      "text/plain": [
       "False    115\n",
       "Name: title, dtype: int64"
      ]
     },
     "execution_count": 10,
     "metadata": {},
     "output_type": "execute_result"
    }
   ],
   "source": [
    "df.title.isna().value_counts()"
   ]
  },
  {
   "cell_type": "code",
   "execution_count": 11,
   "metadata": {},
   "outputs": [
    {
     "data": {
      "text/plain": [
       "False    113\n",
       "True       2\n",
       "Name: paragraphs, dtype: int64"
      ]
     },
     "execution_count": 11,
     "metadata": {},
     "output_type": "execute_result"
    }
   ],
   "source": [
    "df.paragraphs.isna().value_counts()"
   ]
  },
  {
   "cell_type": "code",
   "execution_count": 12,
   "metadata": {},
   "outputs": [],
   "source": [
    "df = df.dropna()"
   ]
  },
  {
   "cell_type": "code",
   "execution_count": 13,
   "metadata": {},
   "outputs": [],
   "source": [
    "df.paragraphs = df.paragraphs.apply(lambda x: [str(x)])"
   ]
  },
  {
   "cell_type": "code",
   "execution_count": 14,
   "metadata": {},
   "outputs": [
    {
     "data": {
      "text/html": [
       "<div>\n",
       "<style scoped>\n",
       "    .dataframe tbody tr th:only-of-type {\n",
       "        vertical-align: middle;\n",
       "    }\n",
       "\n",
       "    .dataframe tbody tr th {\n",
       "        vertical-align: top;\n",
       "    }\n",
       "\n",
       "    .dataframe thead th {\n",
       "        text-align: right;\n",
       "    }\n",
       "</style>\n",
       "<table border=\"1\" class=\"dataframe\">\n",
       "  <thead>\n",
       "    <tr style=\"text-align: right;\">\n",
       "      <th></th>\n",
       "      <th>title</th>\n",
       "      <th>paragraphs</th>\n",
       "    </tr>\n",
       "  </thead>\n",
       "  <tbody>\n",
       "    <tr>\n",
       "      <th>0</th>\n",
       "      <td>offence type ct 40 main text</td>\n",
       "      <td>[a) \\tuses criminal force to or assaults his s...</td>\n",
       "    </tr>\n",
       "    <tr>\n",
       "      <th>1</th>\n",
       "      <td>imprisonment act 40 main text</td>\n",
       "      <td>[if such officer is at the time in the executi...</td>\n",
       "    </tr>\n",
       "    <tr>\n",
       "      <th>2</th>\n",
       "      <td>criminal force example 40 note 2 a i</td>\n",
       "      <td>[A throws a stone at B. If the stone hits B, A...</td>\n",
       "    </tr>\n",
       "    <tr>\n",
       "      <th>3</th>\n",
       "      <td>assault example act 40 note 2 a ii</td>\n",
       "      <td>[A, during an altercation with B, picks up a s...</td>\n",
       "    </tr>\n",
       "    <tr>\n",
       "      <th>4</th>\n",
       "      <td>assult and criminal force similarity act 40 no...</td>\n",
       "      <td>[An 'assault' is something less than the use o...</td>\n",
       "    </tr>\n",
       "  </tbody>\n",
       "</table>\n",
       "</div>"
      ],
      "text/plain": [
       "                                               title  \\\n",
       "0                       offence type ct 40 main text   \n",
       "1                      imprisonment act 40 main text   \n",
       "2               criminal force example 40 note 2 a i   \n",
       "3                 assault example act 40 note 2 a ii   \n",
       "4  assult and criminal force similarity act 40 no...   \n",
       "\n",
       "                                          paragraphs  \n",
       "0  [a) \\tuses criminal force to or assaults his s...  \n",
       "1  [if such officer is at the time in the executi...  \n",
       "2  [A throws a stone at B. If the stone hits B, A...  \n",
       "3  [A, during an altercation with B, picks up a s...  \n",
       "4  [An 'assault' is something less than the use o...  "
      ]
     },
     "execution_count": 14,
     "metadata": {},
     "output_type": "execute_result"
    }
   ],
   "source": [
    "df.head()"
   ]
  },
  {
   "cell_type": "code",
   "execution_count": 29,
   "metadata": {},
   "outputs": [],
   "source": [
    "df.to_json('trans_qa_data.json',orient='records')"
   ]
  },
  {
   "cell_type": "markdown",
   "metadata": {},
   "source": [
    "## Fit the pipeline on my corpus"
   ]
  },
  {
   "cell_type": "code",
   "execution_count": 15,
   "metadata": {},
   "outputs": [
    {
     "name": "stderr",
     "output_type": "stream",
     "text": [
      "/home/ec2-user/anaconda3/envs/pytorch_p36/lib/python3.6/site-packages/tqdm/autonotebook/__init__.py:18: TqdmExperimentalWarning: Using `tqdm.autonotebook.tqdm` in notebook mode. Use `tqdm.tqdm` instead to force console mode (e.g. in jupyter console)\n",
      "  \" (e.g. in jupyter console)\", TqdmExperimentalWarning)\n"
     ]
    }
   ],
   "source": [
    "import pandas as pd\n",
    "from ast import literal_eval\n",
    "from cdqa.pipeline import QAPipeline"
   ]
  },
  {
   "cell_type": "code",
   "execution_count": 16,
   "metadata": {},
   "outputs": [
    {
     "data": {
      "text/plain": [
       "(113, 2)"
      ]
     },
     "execution_count": 16,
     "metadata": {},
     "output_type": "execute_result"
    }
   ],
   "source": [
    "df.shape"
   ]
  },
  {
   "cell_type": "code",
   "execution_count": 17,
   "metadata": {},
   "outputs": [
    {
     "data": {
      "text/plain": [
       "title         object\n",
       "paragraphs    object\n",
       "dtype: object"
      ]
     },
     "execution_count": 17,
     "metadata": {},
     "output_type": "execute_result"
    }
   ],
   "source": [
    "df.dtypes"
   ]
  },
  {
   "cell_type": "code",
   "execution_count": 18,
   "metadata": {},
   "outputs": [
    {
     "data": {
      "text/plain": [
       "QAPipeline(reader=BertQA(adam_epsilon=1e-08,\n",
       "                         bert_model='distilbert-base-uncased',\n",
       "                         do_lower_case=True, fp16=False,\n",
       "                         gradient_accumulation_steps=1, learning_rate=5e-05,\n",
       "                         local_rank=-1, loss_scale=0, max_answer_length=30,\n",
       "                         n_best_size=20, no_cuda=False,\n",
       "                         null_score_diff_threshold=0.0, num_train_epochs=3.0,\n",
       "                         output_dir=None, predict_batch_size=8, seed=42,\n",
       "                         server_ip='', ser...size=8,\n",
       "                         verbose_logging=False, version_2_with_negative=False,\n",
       "                         warmup_proportion=0.1, warmup_steps=0),\n",
       "           retrieve_by_doc=False,\n",
       "           retriever=BM25Retriever(b=0.75, floor=None, k1=2.0, lowercase=True,\n",
       "                                   max_df=0.85, min_df=2, ngram_range=(1, 2),\n",
       "                                   preprocessor=None, stop_words='english',\n",
       "                                   token_pattern='(?u)\\\\b\\\\w\\\\w+\\\\b',\n",
       "                                   tokenizer=None, top_n=20, verbose=False,\n",
       "                                   vocabulary=None))"
      ]
     },
     "execution_count": 18,
     "metadata": {},
     "output_type": "execute_result"
    }
   ],
   "source": [
    "cdqa_pipeline = QAPipeline(reader='distilbert_qa.joblib')\n",
    "cdqa_pipeline.fit_retriever(df=df)"
   ]
  },
  {
   "cell_type": "code",
   "execution_count": 20,
   "metadata": {},
   "outputs": [],
   "source": [
    "cdqa_pipeline.dump_reader('distilbert_indexed40_41_reader.joblib')"
   ]
  },
  {
   "cell_type": "code",
   "execution_count": 24,
   "metadata": {},
   "outputs": [
    {
     "data": {
      "text/plain": [
       "pandas.core.frame.DataFrame"
      ]
     },
     "execution_count": 24,
     "metadata": {},
     "output_type": "execute_result"
    }
   ],
   "source": [
    "type(cdqa_pipeline.metadata)"
   ]
  },
  {
   "cell_type": "code",
   "execution_count": 19,
   "metadata": {},
   "outputs": [
    {
     "data": {
      "text/plain": [
       "{'reader__adam_epsilon': 1e-08,\n",
       " 'reader__bert_model': 'distilbert-base-uncased',\n",
       " 'reader__do_lower_case': True,\n",
       " 'reader__fp16': False,\n",
       " 'reader__gradient_accumulation_steps': 1,\n",
       " 'reader__learning_rate': 5e-05,\n",
       " 'reader__local_rank': -1,\n",
       " 'reader__loss_scale': 0,\n",
       " 'reader__max_answer_length': 30,\n",
       " 'reader__n_best_size': 20,\n",
       " 'reader__no_cuda': False,\n",
       " 'reader__null_score_diff_threshold': 0.0,\n",
       " 'reader__num_train_epochs': 3.0,\n",
       " 'reader__output_dir': None,\n",
       " 'reader__predict_batch_size': 8,\n",
       " 'reader__seed': 42,\n",
       " 'reader__server_ip': '',\n",
       " 'reader__server_port': '',\n",
       " 'reader__train_batch_size': 8,\n",
       " 'reader__verbose_logging': False,\n",
       " 'reader__version_2_with_negative': False,\n",
       " 'reader__warmup_proportion': 0.1,\n",
       " 'reader__warmup_steps': 0,\n",
       " 'reader': BertQA(adam_epsilon=1e-08, bert_model='distilbert-base-uncased',\n",
       "        do_lower_case=True, fp16=False, gradient_accumulation_steps=1,\n",
       "        learning_rate=5e-05, local_rank=-1, loss_scale=0, max_answer_length=30,\n",
       "        n_best_size=20, no_cuda=False, null_score_diff_threshold=0.0,\n",
       "        num_train_epochs=3.0, output_dir=None, predict_batch_size=8, seed=42,\n",
       "        server_ip='', server_port='', train_batch_size=8, verbose_logging=False,\n",
       "        version_2_with_negative=False, warmup_proportion=0.1, warmup_steps=0),\n",
       " 'retrieve_by_doc': False,\n",
       " 'retriever__b': 0.75,\n",
       " 'retriever__floor': None,\n",
       " 'retriever__k1': 2.0,\n",
       " 'retriever__lowercase': True,\n",
       " 'retriever__max_df': 0.85,\n",
       " 'retriever__min_df': 2,\n",
       " 'retriever__ngram_range': (1, 2),\n",
       " 'retriever__preprocessor': None,\n",
       " 'retriever__stop_words': 'english',\n",
       " 'retriever__token_pattern': '(?u)\\\\b\\\\w\\\\w+\\\\b',\n",
       " 'retriever__tokenizer': None,\n",
       " 'retriever__top_n': 20,\n",
       " 'retriever__verbose': False,\n",
       " 'retriever__vocabulary': None,\n",
       " 'retriever': BM25Retriever(b=0.75, floor=None, k1=2.0, lowercase=True, max_df=0.85, min_df=2,\n",
       "               ngram_range=(1, 2), preprocessor=None, stop_words='english',\n",
       "               token_pattern='(?u)\\\\b\\\\w\\\\w+\\\\b', tokenizer=None, top_n=20,\n",
       "               verbose=False, vocabulary=None)}"
      ]
     },
     "execution_count": 19,
     "metadata": {},
     "output_type": "execute_result"
    }
   ],
   "source": [
    "cdqa_pipeline."
   ]
  },
  {
   "cell_type": "code",
   "execution_count": 35,
   "metadata": {},
   "outputs": [
    {
     "data": {
      "text/plain": [
       "('any lawful command',\n",
       " 'act 41 note 8',\n",
       " 'Sub sec. (2).—The offence under this sub sec is a less grave offence when not committed on active service and consists of disobedience of any lawful command given by a superior officer but not accompanied by the essential elements of the graver offence under sub sec (1).',\n",
       " 12.758791940130445)"
      ]
     },
     "execution_count": 35,
     "metadata": {},
     "output_type": "execute_result"
    }
   ],
   "source": [
    "cdqa_pipeline.predict(query='What is disobedience to superior officer?')"
   ]
  },
  {
   "cell_type": "code",
   "execution_count": 43,
   "metadata": {},
   "outputs": [
    {
     "data": {
      "text/plain": [
       "[('cannot give a lawful command to a person who is, by the terms of such restrictions, placed outside his control',\n",
       "  'act 41 note 5 a',\n",
       "  \"(a) Superior officer; see AA.s.3(xxiii).—A 'superior officer' whose command has been restricted, either by the terms of his commission or by regulations, cannot give a lawful command to a person who is, by the terms of such restrictions, placed outside his control\",\n",
       "  5.946681161326095),\n",
       " ('Sec 3(xxiii) of Army Act',\n",
       "  'act 40 note 6 a',\n",
       "  \"The definition of Superior Officer is given in Sec 3(xxiii) of Army Act. Further, The expression 'superior officer' in this section and in AA.s.41 means not only a superior in rank but also a senior in the same grade where that seniority gives power of command according to the usages of the service, but one sepoy can never be the 'Superior officer' of another. The court should be satisfied, before conviction, that the accused knew the person, with respect to whom the offence was committed, to be a superior officer .If the superior did not wear the insignia of his rank, and was not personally known to the accused, evidence would be necessary to show that the accused was otherwise aware of his being his superior officer, or had reason to believe him, to be this superior officer. If such evidence is not available, the accused should be charged under AA.s.63 or 69.Note 6 (c) of Sec 40.\",\n",
       "  5.655644403058043),\n",
       " ('in plain clothes',\n",
       "  'act 40 note 7 b',\n",
       "  \"It is difficult accurately to define the words 'in the execution of his office', but the military knowledge and experience of the members of a court-martial will enable them in most instances readily to determine whether the superior officer was or was not in the execution of his office. A superior officer in plain clothes may undoubtedly be in the execution of his office; but where the superior officer is in plain clothes, it becomes necessary to prove some knowledge on the part of the accused at the time of the offence that the person who was assaulted or to whom criminal force was used was a superior officer and that he was known to the accused as such, which is not the case where the superior officer is in uniform. On the other hand, there may be circumstances in which a superior officer in uniform is not in the execution of his office. It may be taken in general that using criminal force to or assaulting any superior officer by a person subject to AA over whom it is, at the relevant time, the duty of that superior officer to maintain discipline, would be using criminal force to or assaulting him in the execution of his office\",\n",
       "  5.536936480722785),\n",
       " ('a superior in rank but also a senior in the same grade where that seniority gives power of command according to the usages of the service',\n",
       "  'act 40 note 6 c',\n",
       "  \"The expression 'superior officer' in this section and in AA.s.41 means not only a superior in rank but also a senior in the same grade where that seniority gives power of command according to the usages of the service, but one sepoy can never be the 'Superior officer' of another. The court should be satisfied, before conviction, that the accused knew the person, with respect to whom the offence was committed, to be a superior officer .If the superior did not wear the insignia of his rank, and was not personally known to the accused, evidence would be necessary to show that the accused was otherwise aware of his being his superior officer, or had reason to believe him, to be this superior officer. If such evidence is not available, the accused should be charged under AA.s.63 or 69\",\n",
       "  5.532687984931711),\n",
       " ('disobedience',\n",
       "  'act 41 note 9',\n",
       "  'The particulars of the charge must specify the command, the name of the superior officer giving it, the fact of disobedience and if the charge is laid under sub sec (1) also that it was given personally by superior officer in the execution of his office specifying the nature of the offence and the manner in which the disobedience showed a willful defiance of authority.        ',\n",
       "  5.291247056697381)]"
      ]
     },
     "execution_count": 43,
     "metadata": {},
     "output_type": "execute_result"
    }
   ],
   "source": [
    "cdqa_pipeline.predict(query='What is the definition of superior officer?',n_predictions=5, return_all_preds=True, retriever_score_weight=0.95)"
   ]
  },
  {
   "cell_type": "code",
   "execution_count": null,
   "metadata": {},
   "outputs": [],
   "source": []
  }
 ],
 "metadata": {
  "kernelspec": {
   "display_name": "conda_pytorch_p36",
   "language": "python",
   "name": "conda_pytorch_p36"
  },
  "language_info": {
   "codemirror_mode": {
    "name": "ipython",
    "version": 3
   },
   "file_extension": ".py",
   "mimetype": "text/x-python",
   "name": "python",
   "nbconvert_exporter": "python",
   "pygments_lexer": "ipython3",
   "version": "3.6.5"
  }
 },
 "nbformat": 4,
 "nbformat_minor": 4
}
