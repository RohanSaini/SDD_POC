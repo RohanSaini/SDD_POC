{
 "cells": [
  {
   "cell_type": "markdown",
   "metadata": {},
   "source": [
    "## Train Transformers on 70 Acts of Dataset"
   ]
  },
  {
   "cell_type": "code",
   "execution_count": 1,
   "metadata": {},
   "outputs": [],
   "source": [
    "## Get Data"
   ]
  },
  {
   "cell_type": "code",
   "execution_count": 2,
   "metadata": {},
   "outputs": [],
   "source": [
    "from cdqa.utils.converters import pdf_converter"
   ]
  },
  {
   "cell_type": "code",
   "execution_count": 33,
   "metadata": {},
   "outputs": [],
   "source": [
    "df = pdf_converter(directory_path='./Split_Acts/Separated/')"
   ]
  },
  {
   "cell_type": "code",
   "execution_count": 34,
   "metadata": {},
   "outputs": [
    {
     "data": {
      "text/html": [
       "<div>\n",
       "<style scoped>\n",
       "    .dataframe tbody tr th:only-of-type {\n",
       "        vertical-align: middle;\n",
       "    }\n",
       "\n",
       "    .dataframe tbody tr th {\n",
       "        vertical-align: top;\n",
       "    }\n",
       "\n",
       "    .dataframe thead th {\n",
       "        text-align: right;\n",
       "    }\n",
       "</style>\n",
       "<table border=\"1\" class=\"dataframe\">\n",
       "  <thead>\n",
       "    <tr style=\"text-align: right;\">\n",
       "      <th></th>\n",
       "      <th>title</th>\n",
       "      <th>paragraphs</th>\n",
       "    </tr>\n",
       "  </thead>\n",
       "  <tbody>\n",
       "    <tr>\n",
       "      <th>0</th>\n",
       "      <td>Army_Act_Section_27</td>\n",
       "      <td>[27.  Remedy of aggrieved officers— Any office...</td>\n",
       "    </tr>\n",
       "    <tr>\n",
       "      <th>1</th>\n",
       "      <td>Army_Act_Section_64</td>\n",
       "      <td>[64. Miscellaneous offences.—  Any person subj...</td>\n",
       "    </tr>\n",
       "    <tr>\n",
       "      <th>2</th>\n",
       "      <td>Army_Act_Section_38</td>\n",
       "      <td>[38.  Desertion and aiding desertion.— (1)  An...</td>\n",
       "    </tr>\n",
       "    <tr>\n",
       "      <th>3</th>\n",
       "      <td>Army_Act_Section_50</td>\n",
       "      <td>[50.  Irregularity in connection With arrest o...</td>\n",
       "    </tr>\n",
       "    <tr>\n",
       "      <th>4</th>\n",
       "      <td>Army_Act_Section_17</td>\n",
       "      <td>[17.  Mode of attestation.— (1) When a person ...</td>\n",
       "    </tr>\n",
       "  </tbody>\n",
       "</table>\n",
       "</div>"
      ],
      "text/plain": [
       "                 title                                         paragraphs\n",
       "0  Army_Act_Section_27  [27.  Remedy of aggrieved officers— Any office...\n",
       "1  Army_Act_Section_64  [64. Miscellaneous offences.—  Any person subj...\n",
       "2  Army_Act_Section_38  [38.  Desertion and aiding desertion.— (1)  An...\n",
       "3  Army_Act_Section_50  [50.  Irregularity in connection With arrest o...\n",
       "4  Army_Act_Section_17  [17.  Mode of attestation.— (1) When a person ..."
      ]
     },
     "execution_count": 34,
     "metadata": {},
     "output_type": "execute_result"
    }
   ],
   "source": [
    "df.head()"
   ]
  },
  {
   "cell_type": "markdown",
   "metadata": {},
   "source": [
    "## Downloading pre-trained models"
   ]
  },
  {
   "cell_type": "code",
   "execution_count": 17,
   "metadata": {
    "collapsed": true,
    "jupyter": {
     "outputs_hidden": true
    }
   },
   "outputs": [
    {
     "name": "stdout",
     "output_type": "stream",
     "text": [
      "Downloading SQuAD v1.1 data...\n",
      "train-v1.1.json already downloaded\n",
      "dev-v1.1.json already downloaded\n",
      "\n",
      "Downloading SQuAD v2.0 data...\n",
      "train-v2.0.json already downloaded\n",
      "dev-v2.0.json already downloaded\n",
      "\n",
      "Downloading BNP data...\n",
      "bnpp_newsroom-v1.1.csv already downloaded\n",
      "\n",
      "Downloading trained model...\n",
      "distilbert_qa.joblib already downloaded\n",
      "\n",
      "Downloading trained model...\n",
      "distilbert_qa.joblib already downloaded\n"
     ]
    }
   ],
   "source": [
    "from cdqa.utils.download import download_squad, download_model, download_bnpp_data\n",
    "\n",
    "directory = '../'\n",
    "\n",
    "# Downloading data\n",
    "download_squad(dir=directory)\n",
    "download_bnpp_data(dir=directory)\n",
    "\n",
    "# Downloading pre-trained BERT fine-tuned on SQuAD 1.1\n",
    "download_model('distilbert-squad_1.1', dir=directory)\n",
    "\n",
    "# Downloading pre-trained DistilBERT fine-tuned on SQuAD 1.1\n",
    "download_model('distilbert-squad_1.1', dir=directory)"
   ]
  },
  {
   "cell_type": "code",
   "execution_count": 15,
   "metadata": {},
   "outputs": [
    {
     "name": "stdout",
     "output_type": "stream",
     "text": [
      "\u001b[0m\u001b[01;34marmy_act_pdf\u001b[0m/  \u001b[01;34mcdQA\u001b[0m/  \u001b[01;34mcontracts_pdf\u001b[0m/  \u001b[01;34mdata\u001b[0m/  \u001b[01;34m__MACOSX\u001b[0m/  \u001b[01;34mmodels\u001b[0m/  \u001b[01;31mpdf.zip\u001b[0m\n"
     ]
    }
   ],
   "source": [
    "ls ../"
   ]
  },
  {
   "cell_type": "markdown",
   "metadata": {},
   "source": [
    "## Fit the pipeline on my corpus"
   ]
  },
  {
   "cell_type": "code",
   "execution_count": 35,
   "metadata": {},
   "outputs": [],
   "source": [
    "import pandas as pd\n",
    "from ast import literal_eval\n",
    "from cdqa.pipeline import QAPipeline"
   ]
  },
  {
   "cell_type": "code",
   "execution_count": 36,
   "metadata": {},
   "outputs": [
    {
     "data": {
      "text/plain": [
       "(69, 2)"
      ]
     },
     "execution_count": 36,
     "metadata": {},
     "output_type": "execute_result"
    }
   ],
   "source": [
    "df.shape"
   ]
  },
  {
   "cell_type": "code",
   "execution_count": 37,
   "metadata": {},
   "outputs": [
    {
     "data": {
      "text/plain": [
       "title         object\n",
       "paragraphs    object\n",
       "dtype: object"
      ]
     },
     "execution_count": 37,
     "metadata": {},
     "output_type": "execute_result"
    }
   ],
   "source": [
    "df.dtypes"
   ]
  },
  {
   "cell_type": "code",
   "execution_count": 38,
   "metadata": {},
   "outputs": [
    {
     "data": {
      "text/plain": [
       "QAPipeline(reader=BertQA(adam_epsilon=1e-08,\n",
       "                         bert_model='distilbert-base-uncased',\n",
       "                         do_lower_case=True, fp16=False,\n",
       "                         gradient_accumulation_steps=1, learning_rate=5e-05,\n",
       "                         local_rank=-1, loss_scale=0, max_answer_length=30,\n",
       "                         n_best_size=20, no_cuda=False,\n",
       "                         null_score_diff_threshold=0.0, num_train_epochs=3.0,\n",
       "                         output_dir=None, predict_batch_size=8, seed=42,\n",
       "                         server_ip='', ser...size=8,\n",
       "                         verbose_logging=False, version_2_with_negative=False,\n",
       "                         warmup_proportion=0.1, warmup_steps=0),\n",
       "           retrieve_by_doc=False,\n",
       "           retriever=BM25Retriever(b=0.75, floor=None, k1=2.0, lowercase=True,\n",
       "                                   max_df=0.85, min_df=2, ngram_range=(1, 2),\n",
       "                                   preprocessor=None, stop_words='english',\n",
       "                                   token_pattern='(?u)\\\\b\\\\w\\\\w+\\\\b',\n",
       "                                   tokenizer=None, top_n=20, verbose=False,\n",
       "                                   vocabulary=None))"
      ]
     },
     "execution_count": 38,
     "metadata": {},
     "output_type": "execute_result"
    }
   ],
   "source": [
    "cdqa_pipeline = QAPipeline(reader='distilbert_qa.joblib')\n",
    "cdqa_pipeline.fit_retriever(df=df)"
   ]
  },
  {
   "cell_type": "code",
   "execution_count": 39,
   "metadata": {},
   "outputs": [],
   "source": [
    "cdqa_pipeline.dump_reader('distilbert_army_act_reader.joblib')"
   ]
  },
  {
   "cell_type": "code",
   "execution_count": 11,
   "metadata": {},
   "outputs": [
    {
     "data": {
      "text/plain": [
       "'/home/ec2-user/SageMaker/Closed_Domain_QA/army_act_pdf'"
      ]
     },
     "execution_count": 11,
     "metadata": {},
     "output_type": "execute_result"
    }
   ],
   "source": []
  },
  {
   "cell_type": "code",
   "execution_count": 40,
   "metadata": {},
   "outputs": [
    {
     "data": {
      "text/plain": [
       "('any lawful command',\n",
       " 'Army_Act_Section_41',\n",
       " '1.  Offences under this section, when on active service, should not be dealt with summarily under AA.s.80, 83 or 84. 2.  An offence under this section cannot be made the subject of a joint charge. 3.  Lawful Command.—The command must be a specific command to an individual i.e., it must be capable of individual execution by the person to whom it is addressed and justified by military, as well as by civil, law and usage, e.g., a command addressed by a superior officer to four persons to \"dismiss\" is for the purposes of this section a lawful military command to each of the four persons so addressed. The command must relate to military duty that is to say disobedience to it must tend to impede, delay or prevent a military proceeding. The disobedience must have reference to the time at which the command is to be obeyed. If the command be a lawful command, and demands a prompt and immediate compliance, hesitation or unnecessary delay in obeying it may be sufficient to constitute an offence under this section. A person who on being ordered to do a certain thing at some time, uses words expressing an intention not to obey and is immediately confined, does not commit an offence under this section. He should be charged under AA.s.40(c) or 63 according to the circumstances of the case. A neglect to carry out an order due to misapprehension, or forgetfulness, does not constitute an offence under this section though non-compliance with an order through forgetfulness or negligence would be chargeable under AA.s.63. 4.  Sub sec (1).—(a)  The essential ingredients of this offence are that the disobedience should show a wilful defiance of authority and should be disobedience of a lawful command given personally in the execution of his office by a superior officer; in fact, it would ordinarily be such an offence as would fall under AA.s,37 if two or more persons joined in it. In order, therefore, to convict an accused of an offence under this sub-sec it must be shown (i) that a lawful command was given by a superior officer, (ii) that it was given personally by such officer; (iii) that it was given by such officer in the execution of his office; (iv) that the accused disobeyed it, not from any misunderstanding or slowness but so as to show a wilful defiance of his superior officer\\'s authority. (b) The disobedience must be willful and deliberate, and distinguished from disobedience arising from forgetfulness or misapprehension (which might, however, be punished under AA.s. 63). It is not disobedience in the sense of this section if a sepoy declines to sign his accounts on the grounds that they are incorrect; nor his failure to obey a command where obedience would be physically impossible. (c)  Religious scruples, however, bonafide, afford no justification for disobedience of commands which are clearly lawful. (d)  Disobedience to an order of a general nature, as for instance to a regimental order or a para of regulations, is not chargeable under this section but under AA.s.42(e) or 63.  5. (a) Superior officer; see AA.s.3(xxiii).—A \\'superior officer\\' whose command has been restricted, either by the terms of his commission or by regulations, cannot give a lawful command to a person who is, by the terms of such restrictions, placed outside his control. (b)  Disobedience of a lawful order given by a person who is not a superior officer within the meaning of AA.s.3(xxiii) may be punishable under AA.s.63 if the disobedience was prejudicial to good order and military discipline; for instance, a civilian cannot give a \"lawful command\" under this section to a soldier employed under him; but it may well be the soldier\\'s duty as such to do the act indicated, and, if so, he may be punished for not doing it under AA.s.63. The particulars of the charge should clearly show that the disobedience was prejudicial to good order and military discipline because the soldier had been placed under the orders of the civilian by a superior military authority. (c)  The particulars of the charge must set out the name of the superior officer and a charge for disobeying an order given by two different superior officers would be bad for duplicity. AR 30(1).  6.  In the execution of his office; see note 7 to AA.s.40.  7.  A court trying an accused for an offence under this sub sec could, if it was not satisfied that the order was given in the execution of the superior\\'s office, find the accused guilty of an offence under sub sec (2) provided that in all other respects an offence under this section had been committed (AA.s.139(7)).  8.  Sub sec. (2).—The offence under this sub sec is a less grave offence when not committed on active service and consists of disobedience of any lawful command given by a superior officer but not accompanied by the essential elements of the graver offence under sub sec (1).  9.  The particulars of the charge must specify the command, the name of the superior officer giving it, the fact of disobedience and if the charge is laid under sub sec (1) also that it was given personally by superior officer in the execution of his office specifying the nature of the offence and the manner in which the disobedience showed a willful defiance of authority.',\n",
       " 12.288225023018738)"
      ]
     },
     "execution_count": 40,
     "metadata": {},
     "output_type": "execute_result"
    }
   ],
   "source": [
    "cdqa_pipeline.predict(query='What is disobedience to superior officer?')"
   ]
  },
  {
   "cell_type": "code",
   "execution_count": 31,
   "metadata": {},
   "outputs": [
    {
     "data": {
      "text/plain": [
       "[{'text': 'AA.s.40(b)',\n",
       "  'probability': 0.554266506160069,\n",
       "  'start_logit': 7.050589084625244,\n",
       "  'end_logit': 5.054758548736572,\n",
       "  'qas_id': 'a3bf127c-b5f6-48c9-9664-3f990559b11a',\n",
       "  'title': 'Army_Act_Section_48',\n",
       "  'paragraph': '48.  Intoxication. —  (1) Any person subject to this Act who is found in a state of intoxication, whether on duty or not, shall, on conviction by court-martial, if he is an officer, be liable to be cashiered or to suffer such less punishment as is in this Act mentioned; and, if he is not an officer, be liable, subject to the provisions of sub-section (2), to suffer imprisonment for a term which may extend to two years or such less punishment as is in this Act mentioned.  (2) Where an offence of being intoxicated is committed by a person other than an officer when not on active service or not on duty, the period of imprisonment awarded shall not exceed six months.  NOTES  1.  Intoxication may be induced by opium or any similar drug, as well as by liquor. This section creates only one single offence, viz. intoxication, and in all cases, whether the act was committed on duty or not on duty, the charge should be \"intoxication\". If the offence was committed on duty, or after; the accused had been warned for duty, the fact that the offence was so committed and the nature of the duty should be specified in the particulars of the charge as the character of the offence, from a military point of view, and therefore its proper punishment is materially affected by the circumstance. 2.  Intoxication will be regarded as having the ordinary meaning attached to it in civil life i.e., what an ordinary reasonable person would consider to be such and the fact that an offender is capable or incapable of performing his duty is not a decisive or exclusive test of drunkenness or sobriety. It is, however, one of the tests which should be applied by the court. 3.  A person suspected of being intoxicated cannot be put through any drill or test for the purpose of ascertaining his condition; (Regs Army para 393(b)). As such the best evidence in such a charge is the direct stated evidence of witness(s). 4.  For instructions as to the treatment of a person in arrest for being intoxicated see Regs Army para 393(a). 5.  The offence of intoxication is one which cannot be tried jointly. 6.  Nothing can justify a person subject to AA using criminal force to or assaulting a superior, and great care is therefore enjoined to be taken to avoid bringing intoxicated persons in contact with their superiors. Mere abusive and violent language used by an intoxicated person, as the result of being taken into custody, should not be used as the ground for framing a charge of using threatening or insubordinate language to a superior officer under AA.s.40(b) or (c). If a court-martial is considered necessary, the charge should be framed under this section, the language being treated as in the nature of riotous conduct only, and to that extent aggravating the offence.',\n",
       "  'retriever_score': 3.7940637577844636,\n",
       "  'final_score': 9.196398276909743},\n",
       " {'text': 'Any officer who deems himself wronged by his commanding officer',\n",
       "  'probability': 0.5826149060682979,\n",
       "  'start_logit': 4.8951334953308105,\n",
       "  'end_logit': 5.04204797744751,\n",
       "  'qas_id': 'a4051413-9525-4775-a17d-5492d0b57ea5',\n",
       "  'title': 'Army_Act_Section_27',\n",
       "  'paragraph': '27.  Remedy of aggrieved officers— Any officer who deems himself wronged by his commanding officer or any superior officer and who on due application made to his commanding officer does not receive the redress to which he considers himself entitled, may complain to the Central Government in such manner as may from time to time be specified by the proper authority.  ',\n",
       "  'retriever_score': 6.74806516482074,\n",
       "  'final_score': 8.820990764993168},\n",
       " {'text': 'The judge',\n",
       "  'probability': 0.5795245206345792,\n",
       "  'start_logit': 5.19701623916626,\n",
       "  'end_logit': 4.450801849365234,\n",
       "  'qas_id': 'f26a0fc8-b3a9-44fc-a964-64f84807e620',\n",
       "  'title': 'Army_Act_Section_28',\n",
       "  'paragraph': '1.  The words \"civil or revenue court\" in this section do not include a criminal court. The section does not afford protection against a distress warrant issued under s.421 of Cr PC: but the amount in respect of which the distress warrant is issued should be paid by the competent authority ordering deductions from the individual\\'s pay and allowances under AA.ss.90(f) or 91(h) as the case may be.  2.  As to action to have an order of attachment set aside; see Regs Army para 532. 29. Immunity from arrest for debt.— (1) No person subject to this Act shall, so long as he belongs to the Forces, be liable to be arrested for debt under any process issued by, or by authority of, any civil or revenue court or revenue officer.  (2)  The judge of any such court or the said officer may examine into any complaint made by such person or his superior officer of the arrest of such person contrary to the provisions of this section and may, by warrant under his hand, discharge the person, and award reasonable costs to the complainant, who may recover those costs in like manner as he might have recovered costs awarded to him by a decree against the person obtaining the process.  (3)  For the recovery of such costs no court-fee shall be payable by the complainant.  NOTE  The privilege is from arrest on civil or revenue process. There is no privilege from arrest on any criminal process except as provided in ss.45 and 475 of the Cr.PC.  The remedy for an improper arrest is to apply to the court on whose process the arrest took place or to apply for a writ of habeas corpus.',\n",
       "  'retriever_score': 3.9972805067518005,\n",
       "  'final_score': 7.670129934908601},\n",
       " {'text': 'superior officer to four persons to \"dismiss',\n",
       "  'probability': 0.3093693253115284,\n",
       "  'start_logit': 2.5657107830047607,\n",
       "  'end_logit': 3.7634449005126953,\n",
       "  'qas_id': '0844dfd1-3a62-494e-848b-85781140d3df',\n",
       "  'title': 'Army_Act_Section_41',\n",
       "  'paragraph': '1.  Offences under this section, when on active service, should not be dealt with summarily under AA.s.80, 83 or 84. 2.  An offence under this section cannot be made the subject of a joint charge. 3.  Lawful Command.—The command must be a specific command to an individual i.e., it must be capable of individual execution by the person to whom it is addressed and justified by military, as well as by civil, law and usage, e.g., a command addressed by a superior officer to four persons to \"dismiss\" is for the purposes of this section a lawful military command to each of the four persons so addressed. The command must relate to military duty that is to say disobedience to it must tend to impede, delay or prevent a military proceeding. The disobedience must have reference to the time at which the command is to be obeyed. If the command be a lawful command, and demands a prompt and immediate compliance, hesitation or unnecessary delay in obeying it may be sufficient to constitute an offence under this section. A person who on being ordered to do a certain thing at some time, uses words expressing an intention not to obey and is immediately confined, does not commit an offence under this section. He should be charged under AA.s.40(c) or 63 according to the circumstances of the case. A neglect to carry out an order due to misapprehension, or forgetfulness, does not constitute an offence under this section though non-compliance with an order through forgetfulness or negligence would be chargeable under AA.s.63. 4.  Sub sec (1).—(a)  The essential ingredients of this offence are that the disobedience should show a wilful defiance of authority and should be disobedience of a lawful command given personally in the execution of his office by a superior officer; in fact, it would ordinarily be such an offence as would fall under AA.s,37 if two or more persons joined in it. In order, therefore, to convict an accused of an offence under this sub-sec it must be shown (i) that a lawful command was given by a superior officer, (ii) that it was given personally by such officer; (iii) that it was given by such officer in the execution of his office; (iv) that the accused disobeyed it, not from any misunderstanding or slowness but so as to show a wilful defiance of his superior officer\\'s authority. (b) The disobedience must be willful and deliberate, and distinguished from disobedience arising from forgetfulness or misapprehension (which might, however, be punished under AA.s. 63). It is not disobedience in the sense of this section if a sepoy declines to sign his accounts on the grounds that they are incorrect; nor his failure to obey a command where obedience would be physically impossible. (c)  Religious scruples, however, bonafide, afford no justification for disobedience of commands which are clearly lawful. (d)  Disobedience to an order of a general nature, as for instance to a regimental order or a para of regulations, is not chargeable under this section but under AA.s.42(e) or 63.  5. (a) Superior officer; see AA.s.3(xxiii).—A \\'superior officer\\' whose command has been restricted, either by the terms of his commission or by regulations, cannot give a lawful command to a person who is, by the terms of such restrictions, placed outside his control. (b)  Disobedience of a lawful order given by a person who is not a superior officer within the meaning of AA.s.3(xxiii) may be punishable under AA.s.63 if the disobedience was prejudicial to good order and military discipline; for instance, a civilian cannot give a \"lawful command\" under this section to a soldier employed under him; but it may well be the soldier\\'s duty as such to do the act indicated, and, if so, he may be punished for not doing it under AA.s.63. The particulars of the charge should clearly show that the disobedience was prejudicial to good order and military discipline because the soldier had been placed under the orders of the civilian by a superior military authority. (c)  The particulars of the charge must set out the name of the superior officer and a charge for disobeying an order given by two different superior officers would be bad for duplicity. AR 30(1).  6.  In the execution of his office; see note 7 to AA.s.40.  7.  A court trying an accused for an offence under this sub sec could, if it was not satisfied that the order was given in the execution of the superior\\'s office, find the accused guilty of an offence under sub sec (2) provided that in all other respects an offence under this section had been committed (AA.s.139(7)).  8.  Sub sec. (2).—The offence under this sub sec is a less grave offence when not committed on active service and consists of disobedience of any lawful command given by a superior officer but not accompanied by the essential elements of the graver offence under sub sec (1).  9.  The particulars of the charge must specify the command, the name of the superior officer giving it, the fact of disobedience and if the charge is laid under sub sec (1) also that it was given personally by superior officer in the execution of his office specifying the nature of the offence and the manner in which the disobedience showed a willful defiance of authority.',\n",
       "  'retriever_score': 7.960840551965533,\n",
       "  'final_score': 6.900245387474283},\n",
       " {'text': 'junior commissioned officer, warrant officer and a non-commissioned officer',\n",
       "  'probability': 0.45914135281701396,\n",
       "  'start_logit': 2.917154312133789,\n",
       "  'end_logit': 4.2222185134887695,\n",
       "  'qas_id': '7b1e173c-d1cd-4390-b336-ebf9aa6c8f16',\n",
       "  'title': 'Army_Act_Section_3',\n",
       "  'paragraph': '117     (xxiii) \"superior officer\", when used in relation to a person subject to this Act, includes a junior commissioned officer, warrant officer and a non-commissioned officer, and, as regards persons placed under his orders, an officer, warrant officer, petty officer and non-commissioned officer of the Navy or Air Force;  (xxiv) \"warrant officer\" means a person appointed, gazetted or in pay as a warrant officer of the regular Army or of the Indian Reserve Forces, and includes a warrant officer of the Indian Supplementary Reserve Forces or of the Territorial Army ( )1 who is for the time being subject to this Act;  (xxv)  all words (except the word India)2 and expressions used but not de-fined in this Act and defined in the Indian Penal Code (Act XLV of 1860) shall be deemed to have the meanings assigned to them in that Code.  ',\n",
       "  'retriever_score': 4.952238888643077,\n",
       "  'final_score': 6.37387594767974},\n",
       " {'text': \"Superior officer means the 'Superior Officer' in relation to the offender\",\n",
       "  'probability': 0.40919633015586854,\n",
       "  'start_logit': 2.0656344890594482,\n",
       "  'end_logit': 2.6949098110198975,\n",
       "  'qas_id': '1515d59b-8a3e-4c54-885c-1251195e5d3d',\n",
       "  'title': 'Army_Act_Section_38',\n",
       "  'paragraph': \"19.  Sub sec.(3).— To substantiate a charge the particulars must specify the precise steps which, it is alleged by the prosecution, were within the power of the accused to take to cause the deserter or intending deserter to be apprehended. The times at which the accused became aware of the desertion or attempt to desert and gave notice to a superior officer, are material and should be disclosed in the charge.  20.  Superior officer means the 'Superior Officer' in relation to the offender, not to the deserter or intending deserter,\",\n",
       "  'retriever_score': 9.254331492925926,\n",
       "  'final_score': 6.333369817575649},\n",
       " {'text': 'AA.s.3',\n",
       "  'probability': 0.5999709469350165,\n",
       "  'start_logit': 4.02631139755249,\n",
       "  'end_logit': 2.2257468700408936,\n",
       "  'qas_id': '972e711d-6760-4497-94b9-d46f1683f7ca',\n",
       "  'title': 'Army_Act_Section_27',\n",
       "  'paragraph': '1.  It is the custom of the service to forward every complaint through the CO if the unit, and an officer would not be justified in deviating from this course, unless the CO should refuse, or unreasonably delay, to forward it. In such a case, an officer, on addressing himself directly to higher authority, should apprise his CO of his doing so, and should observe in the channel of approach to the Central Government each intermediate gradation of command in so far as he is concerned.  2.  CO : see AA.s.3(v); Superior Officer: see AA.s.3(xxiii).  3.  Deems himself wronged: see note 2to AA.s.26  4.  This sec is not available to officers seconded for service with a civil department of a State, in respect of matters arising in the coarse of seconded employment  5. Although the complaint is to the Central Government an intermediate authority is not debarred from expressing his own view of the case, and such an expression of opinion may even in some cases suffice to render further steps unnecessary. See also notes 7 and 9 to AA.s.26.',\n",
       "  'retriever_score': 5.5103421364102,\n",
       "  'final_score': 5.992457621679269},\n",
       " {'text': 'JCO or a senior NCO',\n",
       "  'probability': 0.5319165375459153,\n",
       "  'start_logit': 1.6950438022613525,\n",
       "  'end_logit': 1.9022116661071777,\n",
       "  'qas_id': '60d9be92-5bc7-402b-9ab1-ff55334edced',\n",
       "  'title': 'Army_Act_Section_40',\n",
       "  'paragraph': 'NOTES 7. (a) The offence under this clause or clauses (b) and (c) is punishable more severely if such superior officer was at the relevant time in the execution of his office or if the offence is committed on active service. Such aggravating circumstances should not be averred in the particulars unless the case warrants severe punishment and it is intended to try the accused by a GCM. (b)  It is difficult accurately to define the words \\'in the execution of his office\\', but the military knowledge and experience of the members of a court-martial will enable them in most instances readily to determine whether the superior officer was or was not in the execution of his office. A superior officer in plain clothes may undoubtedly be in the execution of his office; but where the superior officer is in plain clothes, it becomes necessary to prove some knowledge on the part of the accused at the time of the offence that the person who was assaulted or to whom criminal force was used was a superior officer and that he was known to the accused as such, which is not the case where the superior officer is in uniform. On the other hand, there may be circumstances in which a superior officer in uniform is not in the execution of his office. It may be taken in general that using criminal force to or assaulting any superior officer by a person subject to AA over whom it is, at the relevant time, the duty of that superior officer to maintain discipline, would be using criminal force to or assaulting him in the execution of his office.  (c)  When the accused is charged, with using criminal force to or assaulting his superior officer who is at the time in the execution of his office or if the accused is charged with committing the offence on active service and the court is satisfied that the offence was committed but not on active service or that the superior officer was not then in the execution of his office, he may be found guilty under AA.s.139(7) of the same offence as having been committed in circumstances involving a less severe punishment. 8.  Clause (b).—A joint charge of using threatening or insubordinate language to a superior officer should not be preferred. 9.  Where the charge is for using threatening or insubordinate language the particulars of the charge must state the expressions or their substance, and the superior to whom they were addressed. See note 7 above. 10.  Expressions, however offensive to a superior, that are used (a) in the course of a judicial, inquiry, (b) by a party to that inquiry, and (c) upon a matter pertinent to and bonafide for the purposes of that inquiry, as, for instance, the credibility of a witness, are privileged, and cannot be made the subject of a criminal charge. 11 . Expressions used of a superior officer and not within his hearing, or which cannot be proved to be used to a superior officer, must be charged as an offence under AA.s.63, and not under this section, but the use of threatening or otherwise insubordinate language regarding one superior to (in the sense that it is intended to be heard by) another superior constitutes an offence of using threatening or insubordinate language under this section. 12.  Threatening language means language from which a person addressed may reasonably infer that criminal force may be used. This may be inferred either from the character of the words used or from the surrounding circumstances. 13.  Whereas all threatening language is insubordinate the converse is not true; therefore unless there is no doubt as to his intention an accused should be charged with using insubordinate language rather than threatening. A court may, however, if satisfied in other respects that an offence under this section has been committed, make a special finding when an accused is charged with the offence of using threatening language that he was guilty of using insubordinate language. (AA.s.139(4)). 14.  Clause (c).—See notes 7 to 11 and 13 above. 15.  The words must be used with an insubordinate intent, that is to say, they must be, either in themselves, or in the manner or circumstances in which they are spoken, insulting or disrespectful, and in all cases it must reasonably appear that they were intended to be heard by a superior. The words themselves need not necessarily be discourteous. If they indicate a deliberate intention to be insubordinate or resist lawful authority they may properly be regarded as disrespectful of authority, although courteously expressed. Where for instance a sepoy, having been given a lawful command which does not require immediate compliance, indicates respectfully that he does not intend to comply with it and is at once placed in arrest before being given a chance to comply, he may be charged with an offence under this section though not with an offence under AA.s.41(2)     16.  Further a sepoy may in an outburst of temper or excitement use violent language without intending to be in subordinate. Allowance should also be made for the use of coarse expressions by a person of inferior education which might often be used as mere expletives. These expressions might be insubordinate if used by an officer, a JCO or a senior NCO but not so when used by a junior NCO or a sepoy. These points must be considered by a court before convicting an accused of an offence under this clause.  17. As to the use of coarse and abusive language by a person who is intoxicated, see note 6 to AA.s.48. 18.  The words need not necessarily be spoken. If an accused writes a letter containing insubordinate expressions and addresses it to a superior officer, intending the letter to be read by the addressee, a charge would lie under this clause. 19.  The use of what is commonly known as \"bad\" language need not necessarily give rise to a charge either under this section or AA.s.63.',\n",
       "  'retriever_score': 8.683436529500463,\n",
       "  'final_score': 5.377418839764707},\n",
       " {'text': 'Any person subject to this act who disobeys in such manner as to show a wilful defiance of authority any lawful command given personally',\n",
       "  'probability': 0.4260274508675267,\n",
       "  'start_logit': 3.599398374557495,\n",
       "  'end_logit': 0.6682094931602478,\n",
       "  'qas_id': '68871a70-8c47-4e15-9ba0-2acb442fd97e',\n",
       "  'title': 'Army_Act_Section_41',\n",
       "  'paragraph': '41.  Disobedience to Superior officer.— (1) Any person subject to this act who disobeys in such manner as to show a wilful defiance of authority any lawful command given personally by his superior officer in the execution of his office whether the same is given orally, or in writing or by signal or otherwise shall, on conviction by court-martial be liable to suffer imprisonment for a term which may extend to fourteen years or such less punishment as is in this Act mentioned.  (2)  Any person subject to this Act who disobeys any lawful command given by his superior officer shall, on conviction by court-martial.  if he commits such offence when on active service, be liable to suffer imprisonment for a term which may extend to fourteen years or such less punishment as is in this Act mentioned; and if he commits such offence when on active service, be liable to suffer imprisonment for a term which may extend to five years or such less punishment as is in this Act mentioned.  ',\n",
       "  'retriever_score': 7.074000502849634,\n",
       "  'final_score': 5.249845290013905},\n",
       " {'text': 'he is the next superior officer to the officer against whom the complaint is made',\n",
       "  'probability': 0.3550904022201287,\n",
       "  'start_logit': 2.1953766345977783,\n",
       "  'end_logit': 2.0713157653808594,\n",
       "  'qas_id': '9085ad89-9549-4720-b4da-eb161fa12473',\n",
       "  'title': 'Army_Act_Section_26',\n",
       "  'paragraph': \"129     application fairly considered but has no right to be granted such a commission, consequently he cannot complain under AA.s.27 if his application is refused unless he can produce some evidence that his application was not properly considered. Similarly a JCO or OR who is refused compassionate leave or a compassionate posting has no right of complaint under this section unless he can produce some evidence of improper motive for the refusal of leave, etc.  3.  Complaints may be made respecting such matter, but can be made by an individual only. The combined complaint of several can never be permissible, but should not, if well founded, be treated as mutinous, where it is plain that the only object of those making the complaint is to procure redress of the matter by which they think themselves wronged. 4.  A person can only complain once under this section in respect of any such matter. 5.  A complaint cannot legitimately be preferred to a superior officer except in the regular course defined by this section. The channels through which complaints must be preferred are specified in Regs Army Para 361, and it is only where the immediate superior refuses or unnecessarily delays to redress or forward the complaint that direct application can be made to higher authority. The officer in question ought to be informed of the application being made to his superior. For definition of 'officer' and ‘superior officer' see AA.s.3(xviii) and (xxiii) respectively. 6. The authority competent to dispose finally of the matter, complained of is the officer who, in pursuance of regulations or the custom of the service, is authorized to dispose of that matter. As a rule, he is the next superior officer to the officer against whom the complaint is made. If however, a person thinks himself wronged by his commanding officer in respect of his complaint not being redressed, it has been held that he may complain to the brigade commander. 7. A false accusation or false statement made in preferring a complaint under this section or AA.s.27 is punishable under AA.s. 56(b); but the mere fact that a complaint appears to be baseless, or even frivolous, does not render the maker liable to punishment. As to the repetition of baseless complaints, or the submission of complaints in disrespectful language, see notes to AA.s.63.  8.  The persons to whom this section applies have no right to petition to the Central Government on matters arising out of their military service.  9.  For petition against order, finding or sentence of court-martial; see AA.s.164 and notes thereto.\",\n",
       "  'retriever_score': 6.920557610756003,\n",
       "  'final_score': 5.195545223750715},\n",
       " {'text': 'absentee to a provost officer',\n",
       "  'probability': 0.18177916654327664,\n",
       "  'start_logit': 2.2176077365875244,\n",
       "  'end_logit': 2.5575637817382812,\n",
       "  'qas_id': 'f65e1c17-e3cf-42a3-b7ca-75e783224f51',\n",
       "  'title': 'Army_Act_Section_39',\n",
       "  'paragraph': '39.  Absence without leave.— Any person subject to this Act who commits any of the following offences, that is to say,— (a)  absents himself without leave; or (b)  without sufficient cause overstays leave granted to him; or (c)  being on leave of absence and having received information from proper authority that any corps, or portion of a corps, or any department, to which he belongs, has been ordered on active service, fails, without sufficient cause, to rejoin without delay; or (d)  without sufficient cause fails to appear at the time fixed at the parade or place appointed for exercise or duty; or (e)  when on parade, or on the line of march, without sufficient cause or without leave from his superior officer, quits the parade or line of march; or (f)  when in camp or garrison or elsewhere, is found beyond any limits fixed, or in any place, prohibited by any general/ local or other order, with out a pass or written leave from his superior officer; or (g)  without leave from his superior officer or without due cause, absents himself from any school when duly ordered to attend there;  shall,on conviction by court-martial, be liable to suffer imprisonment for a term which may extend to three years or such less punishment as is in this Act mentioned.  NOTES  1.  Two or more accused should not be jointly charged with an offence under this section.  2.  Clause (a): The criterion between desertion and absence without leave is intention. Where all the ingredients of the offence of desertion are present except an intention not to return to the service or to avoid some important military duty, the offence will be one of absence without leave or any other offence of this genus e.g., failure to appear at the time fixed at the parade.  3.  (a)  Absence without leave must not be involuntary absence e.g., due to illness or being taken into civil or military custody, whether on surrender or apprehension. However, the mere reporting by an absentee to a provost officer or M.C.O. or the fact that such provost officer or M.C.O. orders the absentee to return to his unit will not terminate the voluntary absence; which will continue to run until the absentee rejoins his unit.  (b)  To render an absence involuntary there must be some physical impracticability, outside the control of the offender, that prevents his return to his unit. Inability to return to his unit through intoxication which is an offence under AA.s.48 will not make such absence involuntary nor would an inability which arises through lack of money or loss of his railway or other ticket. Further, where the absence without leave was originally voluntary and has by change of circumstances, subsequently become involuntary the offender may be convicted of absence for the whole period. Similarly, an absence that was originally involuntary becomes voluntary, if the offender fails to return to his unit at the earliest practicable moment e.g., failure to return on release from a civil prison.  (c)  Where the prosecution proves that the accused was absent and that he had not been granted leave, the court may, in the absence of any satisfactory explanation by the accused, infer that the absence was voluntary.    ',\n",
       "  'retriever_score': 5.232314994894101,\n",
       "  'final_score': 4.935171735124709},\n",
       " {'text': 'whether he is or is not',\n",
       "  'probability': 0.5637277909900233,\n",
       "  'start_logit': 2.9485809803009033,\n",
       "  'end_logit': 2.347402811050415,\n",
       "  'qas_id': '16769992-5597-46de-9b45-05279c240395',\n",
       "  'title': 'Army_Act_Section_42',\n",
       "  'paragraph': \"42.  Insubordination and obstruction.— 'Any person subject to this Act who commits any of the following offences, that is to say,— (a)  being concerned in any quarrel, affray ,or disorder, refuses to obey any officer, though of inferior rank, who orders him into arrest, or uses criminal force to or assaults any such officer; or (b)  uses criminal force to or assaults any person, whether subject to this Act or not, in whose custody he is lawfully placed, and whether he is or is not his superior officer; or (c)  resists an escort whose duty it is to apprehend him or to have him in charge; or (d)  breaks out of barracks, camp or quarters; or (e)  neglects to obey any general, local or other order; or (f)  impedes the provost-marshal or any person lawfully acting on his behalf or when called upon, refuses to assist in the execution of his duty a provost-marshal or any person lawfully acting on his behalf; or (g)  uses criminal force to or assaults, any person bringing provisions or supplies to the forces :  shall, on conviction by court-martial, be liable to suffer imprisonment for a term which may extend, in the case of the offences specified in clauses (d) and (e) to two years, and in the case of the offences specified in the other clauses to ten years, or such less punishment as is in this Act mentioned.  \",\n",
       "  'retriever_score': 4.083861963290196,\n",
       "  'final_score': 4.871741151529926},\n",
       " {'text': '20. Superior officer',\n",
       "  'probability': 0.4253422155487884,\n",
       "  'start_logit': 2.68933367729187,\n",
       "  'end_logit': 2.3296868801116943,\n",
       "  'qas_id': '1852e66a-a7ca-46a1-abed-77d7a2d64d9b',\n",
       "  'title': 'Army_Act_Section_39',\n",
       "  'paragraph': '13.  Clause (c)— Charges under clauses (c), (d), (e) or (g) should not ordinarily be preferred as any offence under those clauses must almost invariably amount to an offence under clause (a) and a charge under the latter clause is simple to prove.  14.  Without sufficient cause: see note13 above.  15.  Corps—sees AR 187(3). Department.—see AA.S.3(ix). Active service.—see AA.s.3(i).  16.  Clause (d).—(a) before a conviction can be obtained under this clause, it must be proved that the time was fixed and the place appointed by competent authority, and that the accused was aware of this fact. These facts are sometimes difficult to prove and therefore a charge of absence without leave under clause (a) is usually more practicable. See also note13 above.  (b)  A person who is late for parade commits an offence under this clause, equally with one who is altogether absent.  (c)  Absence from a parade etc., through intoxication should not be charged under this section but underAA.s.48 for intoxication. Ignorance of the order for the parade, although exposing the offender to a charge under AA.s.63, for failing to acquaint himself with the order as required by Regs Army para 324, will not render him liable to a conviction under this clause. Where a reasonable misapprehension of the order exists, based on lack of clarity in the terms of the order itself, this may, in certain circumstances amount to a good defence to the charge.  17.  Clause (f).—\\'Camp\\' includes a bivouac and any quarters, shelter, or other place where troops are temporarily lodged.  18.  \\'General, local or other order\\'s—The orders specified in this clause are standing orders or orders in writing and applicable continuously over a period of time to persons present in a certain geographical area or in a certain military formation. Ignorance of the order is no excuse if the order is one which the accused ought, in the ordinary course, to know. But a misapprehension reasonably arising from want of clarify in the order is a ground for exculpation. The existence of the order must be proved by producing it or a certified copy where so permissible under AA.s.142(4) on oath/affirmation to the court. A written order cannot be proved by oral testimony. Evidence must also be led to show that the order was duly posted or brought to the notice of the accused, or that he was otherwise in a position to be acquainted with its contents.  19.  (a) A charge alleging \"without a pass or written leave from his superior officer would be a good charge under this clause, since it is a single offence for him to have neither a pass nor written leave. On the other hand, a charge alleging \"beyond the limits fixed by general or local orders\" would be bad since it might be one offence to be beyond the limits fixed by general orders, and another offence to be beyond the limits fixed by local orders (see AR 30). (b) Without a pass or written leave from his superior officer.—These words are in the nature of an exception, and on being proved that the accused was found beyond fixed limits, it will rest on him to show that he had the proper authority.  20.  Superior officer. See AA.s.3(xxiii).',\n",
       "  'retriever_score': 4.5569512862158,\n",
       "  'final_score': 4.857296312487847},\n",
       " {'text': 'Any person subject to this Act who commits any of the following offences',\n",
       "  'probability': 0.32467691717891145,\n",
       "  'start_logit': 4.623287677764893,\n",
       "  'end_logit': -0.49465954303741455,\n",
       "  'qas_id': 'd12858da-f9d6-411d-b26b-0af0bfeee86f',\n",
       "  'title': 'Army_Act_Section_40',\n",
       "  'paragraph': '40.  Striking or threatening superior officers. — Any person subject to this Act who commits any of the following offences, that is to say, — (a)  uses criminal force to or assaults his superior officer; or (b)  uses threatening language to such officer; or (c)  uses insubordinate language to such officer; shall on conviction by court-martial, if such officer is at the time in the execution of his office or, If the offence is committed on active service, be liable to suffer imprisonment for a term which may extend to fourteen years or such less punishment as is in this Act mentioned; and in other cases, be liable to suffer imprisonment for a term which may extend to ten years or such less punishment as is in this Act mentioned.   Provided that in the case of an offence specified in clause (e), the imprisonment shall not exceed five years.  ',\n",
       "  'retriever_score': 5.58287813084653,\n",
       "  'final_score': 4.637615633369146},\n",
       " {'text': 'superior officer had no right to call',\n",
       "  'probability': 0.4644848687310868,\n",
       "  'start_logit': 1.3582600355148315,\n",
       "  'end_logit': 2.8522627353668213,\n",
       "  'qas_id': '44c470b3-3cd6-4e41-97cb-5544f8611bf9',\n",
       "  'title': 'Army_Act_Section_58',\n",
       "  'paragraph': '1.  An offence under this section should not be dealt with summarily under AA.ss.80,83 or 84, 2.  Clause (b). —In a charge under clause (b), the particulars must show that it was the duty of the accused to make or send the report or return, but where the position (appointment etc., ) of the accused is proved the court may use their military knowledge to infer his duty. If the report or return was one for which the superior officer had no right to call, it is not an offence to refuse to make or send it. 3.  The report must be in writing; clause (b) does not relate to a verbal report. The neglect must be culpable, i.e., something more than mere forgetfulness or mistake; see note 3 to AA.s.63.',\n",
       "  'retriever_score': 4.8764852058583115,\n",
       "  'final_score': 4.443609623123483},\n",
       " {'text': 'Commanding officer',\n",
       "  'probability': 0.24447860919758022,\n",
       "  'start_logit': 1.5228664875030518,\n",
       "  'end_logit': 1.0870620012283325,\n",
       "  'qas_id': '649ced38-8680-4623-adc2-9ade42c4a854',\n",
       "  'title': 'Army_Act_Section_37',\n",
       "  'paragraph': '5.  Persons present on, parade or present accidentally or induced by false pretences to attend a meeting where a mutiny is being contrived may still be guilty of an offence under clause (c) although they took no active part in the proceedings.  6.  (a)  Not using his utmost endeavour in clause (c) does not necessarily mean the utmost of which a person is capable, but such endeavours as person might reasonably and fairly be expected to make, and every person in a squad not marching or not coming from their barrack room when duly ordered, is guilty of mutiny.  (b)  In clause (d), it will be noticed that the person who comes to know of an existing or intended mutiny will have performed his duty under this clause if he gives information without delay either to his CO or any other superior officer. Such information would naturally be given to the immediate superior of the person, who would, in his turn, be bound to transmit it to higher authority.  (c)  Commanding officer: see AA.s.3(v).  Superior officer: see AA.s.3(xxiii)  7.  Endeavours to seduce etc. the attempt itself is punishable. It is immaterial whether the attempt succeeds or not.',\n",
       "  'retriever_score': 7.48353649376579,\n",
       "  'final_score': 4.315691290493426},\n",
       " {'text': 'next superior officer',\n",
       "  'probability': 0.40405817827855006,\n",
       "  'start_logit': -0.16265854239463806,\n",
       "  'end_logit': 2.1883981227874756,\n",
       "  'qas_id': '84ee5ea8-bfe1-4bea-8448-3ed3aaea6935',\n",
       "  'title': 'Army_Act_Section_26',\n",
       "  'paragraph': \"26. Remedy of aggrieved persons other than officers. —  (1)  Any person subject to this Act other than an officer who deems himself wronged by any superior or other officer may, if not attached to a troop or company, complain to the officer under whose command or orders he is serving; and may, if attached to a troop or company, complain to the officer commanding the same.  (2)  When the officer complained against is the officer to whom any complaint should, under, sub-section (1), be preferred, the aggrieved person may complain to such officer's next superior officer.  (3)  Every officer receiving any such complaint shall make as complete an investigation into it as may be possible for giving full redress to the complainant; or, when necessary, refer the complaint to superior authority.  (4)  Every such complaint shall be preferred in such manner as may from time to time be specified by the proper authority.  (5)  The Central Government may revise any decision by the (Chief of the Army Staff)1 under sub-section (2), but, subject thereto, the decision of the (Chief of the Army Staff)1 shall be final.  \",\n",
       "  'retriever_score': 7.460394461632992,\n",
       "  'final_score': 3.927868788826891},\n",
       " {'text': 'one sepoy',\n",
       "  'probability': 0.29157821611819207,\n",
       "  'start_logit': 1.1661121845245361,\n",
       "  'end_logit': 0.5065618753433228,\n",
       "  'qas_id': 'aa550b52-278d-4b66-beca-3f73ecbcfa91',\n",
       "  'title': 'Army_Act_Section_40',\n",
       "  'paragraph': 'NOTES 1.  Clause (a).— Offences under this clause should not be dealt with summarily under AA.s.80, 83 or 84. 2.  (a) For definition of \\'force\\', using criminal force and \\'assault\\', see IPC.ss.349, 350 and 351 (PartIII).The difference between the offence mentioned in this clause will be clear from the following examples : —  (i)  A throws a stone at B. If the stone hits B, A has used criminal force, if it misses him, A has attempted to use criminal force. (ii)  A, during an altercation with B, picks up a stone in a threatening manner. If A intends, or knows it to be likely, that this will cause B to believe that A is about to throw the stone at him. A commits an assault on B. An \\'assault\\' is something less than the use of criminal force; the force being cut short before the blow actually falls. It seems to consist in an attempt or offer by a person having present ability, with force to do any hurt or violence to the person of another, and it is committed whenever a well founded apprehension of peril from a force partially or fully put in motion is created, e.g., when a person draws a bayonet or otherwise makes a show of violence against a superior but not when net is behind the bars or at such a distance as to rule out at the moment any actual use of criminal force An assault is thus included in every use of criminal force, and is an intermediate stage thereof. (b)  If the force be used in the exercise of the right of private defence, for instance if it be shown that it was necessary, or that at the moment the accused had reason to believe it was necessary for his actual protection from injury, and that he used no more force than was reasonably necessary for this purpose, he is legally justified in using it and commits no offence. See IPC.ss.96, 97—102 (Part III). (c)  Provocation is not a ground of acquittal, but tends to mitigate the punishment; evidence of provocation, if tendered, must therefore be admitted. Also see note 6 to AR 52. (d) As to intoxication as an excuse or defence to a charge under this section, see note4to AAs.48.   3.  A joint charge under this clause can be sustained provided that the use of criminal force or assault was the result of a concerted action in furtherance of a common intent (IPC.s.34) though in some cases such concerted use of force may amount to an offence under AA. s.37(b) also.  4.  When use of criminal force to a superior is accompanied by insubordinate language, the use of criminal force only should be charged (assuming that the evidence is satisfactory) and the language would be admissible in evidence to show the manner in which the offence was committed.  5.  A person charged with using criminal force may be found guilty of an attempt to use criminal force or assault (AA.s.139(8) and (3)).  6.  (a) Superior Officer.—See AA.s.3(xxiii). (b)  While framing a charge under this section, the name of the superior officer shut be set out in the particulars of the charge. (c)  The expression \\'superior officer\\' in this section and in AA.s.41 means not only a superior in rank but also a senior in the same grade where that seniority gives power of command according to the usages of the service, but one sepoy can never be the \"Superior officer\" of another. The court should be satisfied, before conviction, that the accused knew the person, with respect to whom the offence was committed, to be a superior officer .If the superior did not wear the insignia of his rank, and was not personally known to the accused, evidence would be necessary to show that the accused was otherwise aware of his being his superior officer, or had reason to believe him, to be this superior officer. If such evidence is not available, the accused should be charged under AA.s.63 or 69. (d)  Where the accused is charged with an offence against a superior officer who is of the same grade, evidence must be adduced to show that the latter is senior to the accused. (e)  The lower the rank of the superior the less is the gravity of the offence. Also see Regs Army para 450.   ',\n",
       "  'retriever_score': 8.059627447653131,\n",
       "  'final_score': 3.9081077455927042},\n",
       " {'text': 'commanding',\n",
       "  'probability': 0.31524570717537415,\n",
       "  'start_logit': -0.9222642183303833,\n",
       "  'end_logit': 1.0886141061782837,\n",
       "  'qas_id': '0bc664d0-a1ec-4400-8083-e2356d6058ba',\n",
       "  'title': 'Army_Act_Section_37',\n",
       "  'paragraph': '139      (b)  Words in the plural include the singular (s. 13 General Clauses Act, 1897). Therefore a person can be charged under clause (a) with conspiracy with one other person to cause a mutiny. (c)  A person cannot be charged generally with mutiny, or with an act of mutiny, but only with some one or more of the specified offences laid down in this section. If (d)  knowing or having reason to believe in the existence of any such mutiny, or of any intention to mutiny or of any such conspiracy, does not, without delay, give information thereof to his commanding or other superior officer; or (e)  endeavours to seduce any person in the military, naval or air forces of India from his duty or allegiance to the Union; shall, on conviction by court-martial, be liable to suffer death or such less punishment as is in this Act mentioned.  NOTES 1.  Offences under this section should not be dealt with summarily under AA.s.80, 83 or 84. 2. ( a)  The limitation of time for the commencement of trial (three years) prescribed by AA.s.122 does not apply to the offence of mutiny.  (b)  As the maximum punishment for offences under this section is death ;—  (i)  a summary of evidence must be taken. (ii)  a plea of guilty cannot be accepted [AR 52(4)].  (iii)  the trial should not take place before a summary or district court-martial.  3.  (a)  Mutiny implies collective insubordination, or a combination of two or more persons to resist, or to induce others to resist, lawful military authority. (b) Words in the plural include the singular (s. 13 General Clauses Act, 1897). Therefore a person can be charged under clause (a) with conspiracy with one other person to cause a mutiny. (c) A person cannot be charged generally with mutiny, or with an act of mutiny, but only with some one or more of the specified offences laid down in this section. If he has not brought himself within the terms of the section, his offence, however much it may tend towards mutiny, must be dealt with as insubordination and the provisions of AA.s.40 or 41 will usually afford ample powers for the purpose. Thus, where there is an actual mutiny or a conspiracy to mutiny, all concerned in the mutiny or conspiracy can be tried under this section for causing or conspiring to cause, or joining in, the mutiny, as the case may be. If no mutiny or conspiracy exists, a person can only be tried under this section if the charge is one of being present at a mutiny not using his utmost endeavours to suppress the same or of failing to inform his commanding or other superior officer of an intent to cause mutiny or such conspiracy or of endeavouring to seduce any person in the forces from his duty or allegiance to the Union. (d)  In framing a charge under this section the specific act or acts which are alleged to have constituted the offence must always be averred; and the offence is so grave that a charge for it should only be brought on very clear evidence. Cases of insubordination, even on the part of two or more persons, should unless there appears to be a combined design on their part to resist authority, be charged jointly under AA. s. 40(a) with using criminal force, assaulting, or separately under AA.s.40(b)or(c) with using threatening or insubordinate language, or under AA.s.41, or, if these sections are inapplicable jointly or separately under AA.s.63. Provocation by a superior or the existence of grievances, is no justification for mutiny or insubordination though such circumstances would be given due weight in considering the question of punishment. (e)  Collective petitions/representations or the submission of a petition through the medium of any association in respect of military matters are forbidden on this ground.  4.  If there is evidence that a person caused, or conspired with others to cause a mutiny, but a doubt exists as to whether he took such an active part as to have actually joined, in the mutiny, he may be charged under clause (b) with an alternative charge under clause (a). On the other hand, doubts may arise whether the persons who appear to be taking an active part are actually acting in combination, and in such cases it is desirable to prefer separate charges in the alternative under AA.s.40 or AA.s.41 .as appropriate.   ',\n",
       "  'retriever_score': 3.646293448618316,\n",
       "  'final_score': 1.3843301341175456},\n",
       " {'text': 'a superior officer',\n",
       "  'probability': 0.16143803102577117,\n",
       "  'start_logit': 0.35970786213874817,\n",
       "  'end_logit': -2.5683226585388184,\n",
       "  'qas_id': '8cbe69fb-819b-458f-bbc4-a8cb8ece4908',\n",
       "  'title': 'Army_Act_Section_38',\n",
       "  'paragraph': '1.  General.—(a)  An offence under sub-section (1) of this section when on active service or under orders for active service should not be dealt with summarily under AA.ss.80, 83 or 84. (b)  When a superior officer directs the case of an offender against whom a charge for desertion has been preferred to be summarily disposed of, he should order the offence to be disposed of as one of absence without leave. See notes to AA.s.39. See generally AA.ss.104 and 105 and Regs Army paras 376 to 381. (c)  Under AA.s.120(3), a CO can try by SCM a NCO or sepoy under his command, for an offence under this section. As a rule a NCO or OR cannot be attached to another unit for purposes of his trial by SCM; but see Regs Army para 381 for the circumstances when a CO other than the CO of the unit to which a NCO or OR properly belongs, can try him by SCM for an offence of desertion or absence without leave.  2  Sub sec.(1).—Desertion is distinguished from absence without leave under AA.s.39; in that desertion or attempt to desert the service implies an intention on the part of      ',\n",
       "  'retriever_score': 3.695955971668549,\n",
       "  'final_score': -0.14201502757605367}]"
      ]
     },
     "execution_count": 31,
     "metadata": {},
     "output_type": "execute_result"
    }
   ],
   "source": [
    "cdqa_pipeline.predict(query='Who is superior officer?',return_all_preds=True, retriever_score_weight=0.35)"
   ]
  },
  {
   "cell_type": "code",
   "execution_count": null,
   "metadata": {},
   "outputs": [],
   "source": []
  }
 ],
 "metadata": {
  "kernelspec": {
   "display_name": "conda_pytorch_p36",
   "language": "python",
   "name": "conda_pytorch_p36"
  },
  "language_info": {
   "codemirror_mode": {
    "name": "ipython",
    "version": 3
   },
   "file_extension": ".py",
   "mimetype": "text/x-python",
   "name": "python",
   "nbconvert_exporter": "python",
   "pygments_lexer": "ipython3",
   "version": "3.6.5"
  }
 },
 "nbformat": 4,
 "nbformat_minor": 4
}
