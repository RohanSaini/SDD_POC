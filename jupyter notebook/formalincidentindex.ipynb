{
 "cells": [
  {
   "cell_type": "code",
   "execution_count": 1,
   "metadata": {},
   "outputs": [],
   "source": [
    "doc = [\n",
    "{'tag' :'Collective insubordination', 'context':['refusal to obey orders','disobedience','indiscipline','bad behaviour','rebellion','refusal to obey orders']},\n",
    "{'tag' :'Suicide, attempted or suspected ', 'context':[\"suscide\"]},\n",
    "{'tag' :'Murder or an attempt to murder', 'context':['Murder or an attempt to murder','cases wrt murder and rape']},\n",
    "{'tag' :'Rape including sexual assault or using criminal force to a woman  with intent to outrage her modesty', 'context':['cases wrt rape']},\n",
    "{'tag' :'MT Accidents resulting in fatal and serious injuries, accidents involving civil vehicles resulting in damage to civil person/property', 'context':['military training']},\n",
    "{'tag' :'Other serious cases, eg unnatural deaths (drowning)', 'context':[\"unnatural Death\"]},\n",
    "{'tag' :'All cases of espionage activities', 'context':[]},\n",
    "{'tag' :'Arrest of an Officer or a JCO by civil auths', 'context':[]},\n",
    "{'tag' :'Case of loss or damage to public property due to sabotage or suspected sabotage', 'context':['deliberately destroy','wreck','vandalize']},\n",
    "{'tag' :'Loss of Regimental funds exceeding Rs 5000/- due to theft, fraud or neglect', 'context':[]},\n",
    "{'tag' :'All Offences against Wild Life Act', 'context':['damage to wildlife','harm to animal or flora and fauna','death of animal']}\n",
    "]\n",
    "\n",
    "\n"
   ]
  },
  {
   "cell_type": "code",
   "execution_count": 2,
   "metadata": {},
   "outputs": [],
   "source": [
    "from elasticsearch import Elasticsearch\n",
    "es = Elasticsearch()"
   ]
  },
  {
   "cell_type": "code",
   "execution_count": 3,
   "metadata": {},
   "outputs": [],
   "source": [
    "for i,docindex in enumerate(doc):\n",
    "    es.index(index=\"incidentreport\", doc_type=\"sentences\", id=i, body=docindex)"
   ]
  },
  {
   "cell_type": "code",
   "execution_count": 1,
   "metadata": {},
   "outputs": [],
   "source": [
    "def askincident():\n",
    "    userinput = input()\n",
    "    if userinput == 'exit':\n",
    "        print('done')\n",
    "    else:\n",
    "#         result = es.search(index=\"act40\", body={\"query\":{\"match\":{\"doc\":userinput}}})\n",
    "        result = es.search(index=\"incidentreport\", body={\n",
    "          \"query\": {\n",
    "            \"multi_match\": {\n",
    "                \"query\":    userinput,\n",
    "                \"fields\":   [ \"tag\", \"context\" ]\n",
    "            }\n",
    "          }\n",
    "        })\n",
    "        print(\"score => \", result['hits']['hits'][0]['_score'])\n",
    "        print('result => ',result['hits']['hits'][0]['_source']['tag'], '\\n\\n')\n",
    "        askincident()"
   ]
  },
  {
   "cell_type": "code",
   "execution_count": 3,
   "metadata": {},
   "outputs": [
    {
     "name": "stdout",
     "output_type": "stream",
     "text": [
      "Does the case for Assault and Affray be tried under Court of Inquiry?\n",
      "score =>  2.5447974\n",
      "result =>  Case of loss or damage to public property due to sabotage or suspected sabotage \n",
      "\n",
      "\n",
      "exit\n",
      "done\n"
     ]
    }
   ],
   "source": [
    "askincident()"
   ]
  },
  {
   "cell_type": "code",
   "execution_count": 3,
   "metadata": {},
   "outputs": [
    {
     "data": {
      "text/plain": [
       "{'took': 1,\n",
       " 'timed_out': False,\n",
       " '_shards': {'total': 1, 'successful': 1, 'skipped': 0, 'failed': 0},\n",
       " 'hits': {'total': {'value': 1, 'relation': 'eq'},\n",
       "  'max_score': 3.18057,\n",
       "  'hits': [{'_index': 'incidentreport',\n",
       "    '_type': 'sentences',\n",
       "    '_id': '2',\n",
       "    '_score': 3.18057,\n",
       "    '_source': {'tag': 'Murder or an attempt to murder', 'context': []}}]}}"
      ]
     },
     "execution_count": 3,
     "metadata": {},
     "output_type": "execute_result"
    }
   ],
   "source": [
    "es.search(index=\"incidentreport\", body={\n",
    "          \"query\": {\n",
    "            \"multi_match\": {\n",
    "                \"query\":    'murder',\n",
    "                \"fields\":   [ \"tag\", \"context\" ]\n",
    "            }\n",
    "          }\n",
    "        })"
   ]
  },
  {
   "cell_type": "code",
   "execution_count": null,
   "metadata": {},
   "outputs": [],
   "source": []
  },
  {
   "cell_type": "code",
   "execution_count": null,
   "metadata": {},
   "outputs": [],
   "source": []
  },
  {
   "cell_type": "code",
   "execution_count": 39,
   "metadata": {},
   "outputs": [],
   "source": [
    "coiindex = [ {'context':['Absent without leave','Overstaying / overstayal of leave'],'tag' : 'Absent Overstaying / overstayal without leave AWL/OSL beyond 30 days    \t  -\tAA Sec 106 AR 183.'},\n",
    "{'context':['Prisoner (s) of War'],'tag' :' Prisoner of War/POW   - \tARs 178, 181 and RA 524.'},\n",
    "\t     {'context':[],'tag' :'Collective Fine \t \t \t  - \tAA Sec 89 r/w ARs 185, 186.'}, \n",
    "\t     {'context':[],'tag' :'Cases of Financial Irregularities     -        RA Para 519'},\n",
    "\t     {'context':[],'tag' :'Fatal/Grievous injuries to Military person  -\tRA Para 520'},\n",
    "\t     {'context':[],'tag' :'Injury to  Civilians              \t    \t  -\tRA Para 521'},\n",
    "\t    {'context':['fight','battle','confrontation','clash'],'tag' :' Assault and Affray \t \t  \t  -\tRA Para 522'},\n",
    "\t    {'context':[],'tag' :' Unnatural Death \t \t\t  -\tRA Para 522 '},\n",
    "\t    {'context':['loss of confidential documents'],'tag' :' Loss of Secret and Conf Docus\t  -        RA Para 525'},\n",
    "\t    {'context':['identity card'],'tag' :' Loss of I-Card \t\t\t  -\tSAO – 12/2000'},\n",
    "\t    {'context':[],'tag' :' Death of Animal \t\t\t  -     \tRA Para 957'},\n",
    "\t     {'context':['damage by fire','Destruction by fire'],'tag' :'Destruction by Fire \t\t  \t  -\tRA Para 435, 1195'},\n",
    "\t    {'context':[],'tag' :' Loss of Stores and Public Money \t  -  \tRA Para 903'},\n",
    "\t     {'context':['loss of weaponry','loss of guns'],'tag' :'Losses and recovery of Arms,         -       RA Para 602'},\n",
    "         {'context':[],'tag' :' Ammunition and Explosives  '},\n",
    "\t     {'context':[\"can cases for explosion and accidents be tried under court of inquiry?\"],'tag' :'Explosions  and Accidents \t  \t  -\tRA Para 603 '},\n",
    "\t     {'context':['loss of Document Junior commissioned officer','loss of Document Junior commissioned officer'],'tag' :'Loss of Docus of JCOs/WOs andOR -     RA Para 623'},\n",
    "        {'context':['disobedience','indiscipline','bad behaviour','rebellion','refusal to obey orders'],'tag':'Collective Insubordination. -\tRA Para 522'},\n",
    "{'context':['military training'],'tag':'MT accidents resulting in death/serious injury. -\tRA Para 522'},\n",
    "{'context':[\"can suscide be tried under court of inquiry?\"],'tag':'Suicide, attempted or suspected suicide. -\tRA Para 522'},\n",
    "{'context':['Murder or an attempt to murder','cases wrt murder and rape be tried under court of inquiry?'],'tag':'Murder and rape, only when the offence has been committed against a person subject to the Army Act, Navy Act or Air Force Act, or in any of the circumstances mentioned in classes (a), (b) and (c) of Section 70 of the Army Act. -\tRA Para 522'},\n",
    "{'context':[\"What different types of Breaches of Discpline be tried under court of inquiry?\"],'tag':\"\"\"Breaches of Discipline \t\t  -\tRA Para 522<br>\n",
    "(a)  Collective Insubordination<br>\n",
    "(b)  MT accidents resulting in death/\n",
    "                serious injury.<br>\n",
    "(c)\tSuicide, attempted or suspected\n",
    "suicide.<br>\n",
    "(d)\tMurder and rape, only when the offence has been committed against a person subject to the Army Act, Navy Act or Air Force Act, or in any of the circumstances mentioned in classes (a), (b) and (c) of Section 70 of the Army Act.\n",
    "\"\"\"},\n",
    "{\n",
    "\"context\":[\"What are the cases which are necessarily required to be investigated by a court of inquiry?\",\n",
    "\"Mandotory cases to be tries under court of inquiry?\",\n",
    "\"Which cases can be tried under court of inquiry?\"\n",
    "],\n",
    "\"tag\":\"\"\"\n",
    "1.\t     AWL/OSL beyond 30 days    \t  -\tAA Sec 106 AR 183.<br>\n",
    "2.\t     POW \t    \t \t     \t\t  - \tARs 178, 181 and RA 524.<br>\n",
    "3.\t     Collective Fine \t \t \t  - \tAA Sec 89 r/w ARs 185, 186. <br>\n",
    "4.\t     Cases of Financial Irregularities     -        RA Para 519<br>\n",
    "5.\t     Fatal/Grievous injuries to Mil Pers  -\tRA Para 520<br>\n",
    "6.\t     Injury to  Civilians              \t    \t  -\tRA Para 521<br>\n",
    "7.\t     Assault and Affray \t \t  \t  -\tRA Para 522<br>\n",
    "8.\t     Unnatural Death \t \t\t  -\tRA Para 522 <br>\n",
    "9.\t     Breaches of Discipline \t\t  -\tRA Para 522<br>\n",
    "          (a)  Collective Insubordination.<br>\n",
    "          (b)  MT accidents resulting in death/serious injury.<br>\n",
    "          (c)\tSuicide, attempted or suspectedsuicide. <br>\n",
    "           (d)\tMurder and rape, only when the offence has been committed against a person subject to the Army Act, Navy Act or Air Force Act, or in any of the circumstances mentioned in classes (a), (b) and (c) of Section 70 of the Army Act.<br>\n",
    "10.\t     Loss of Secret and Conf Docus\t  -        RA Para 525<br>\n",
    "11.\t     Loss of I-Card \t\t\t  -\tSAO – 12/2000<br>\n",
    "12.\t     Death of Animal \t\t\t  -     \tRA Para 957<br>\n",
    "13.\t     Destruction by Fire \t\t  \t  -\tRA Para 435, 1195<br>\n",
    "14.\t     Loss of Stores and Public Money \t  -  \tRA Para 903<br>\n",
    "15.\t     Losses and recovery of Arms,         -       RA Para 602<br>\n",
    "          Ammunition and Explosives  <br>\n",
    "16.\t     Explosions  and Accidents \t  \t  -\tRA Para 603 <br>\n",
    "17.\t     Loss of Docus of JCOs/WOs andOR -     RA Para 623<br>\n",
    "\"\"\"\n",
    "}\n",
    "]"
   ]
  },
  {
   "cell_type": "code",
   "execution_count": 40,
   "metadata": {},
   "outputs": [],
   "source": [
    "for i,docindex in enumerate(coiindex):\n",
    "    es.index(index=\"coireport\", doc_type=\"sentences\", id=i, body=docindex)"
   ]
  },
  {
   "cell_type": "code",
   "execution_count": 37,
   "metadata": {},
   "outputs": [],
   "source": [
    "def askcoi():\n",
    "    userinput = input()\n",
    "    if userinput == 'exit':\n",
    "        print('done')\n",
    "    else:\n",
    "#         result = es.search(index=\"act40\", body={\"query\":{\"match\":{\"doc\":userinput}}})\n",
    "        result = es.search(index=\"coireport\", body={ \"query\": {\n",
    "            \"multi_match\": {\n",
    "                \"query\":    userinput,\n",
    "                \"fields\":   [ \"tag\", \"context\" ]\n",
    "            }\n",
    "          }})\n",
    "        print('result => ',result[\"hits\"][\"hits\"][0]['_source'])\n",
    "        askcoi()"
   ]
  },
  {
   "cell_type": "code",
   "execution_count": 38,
   "metadata": {},
   "outputs": [
    {
     "name": "stdout",
     "output_type": "stream",
     "text": [
      "can cases for explosion and accidents be tried under court of inquiry?\n",
      "result =>  {'context': ['can cases for explosion and accidents be tried under court of inquiry?'], 'tag': 'Explosions  and Accidents \\t  \\t  -\\tRA Para 603 '}\n",
      "cases wrt murder and rape be tried under court of inquiry?\n",
      "result =>  {'context': ['Murder or an attempt to murder', 'cases wrt murder and rape be tried under court of inquiry?'], 'tag': 'Murder and rape, only when the offence has been committed against a person subject to the Army Act, Navy Act or Air Force Act, or in any of the circumstances mentioned in classes (a), (b) and (c) of Section 70 of the Army Act. -\\tRA Para 522'}\n",
      "can suscide be tried under court of inquiry?\n",
      "result =>  {'context': ['can suscide be tried under court of inquiry?'], 'tag': 'Suicide, attempted or suspected suicide. -\\tRA Para 522'}\n",
      "What different types of Breaches of Discpline be tried under court of inquiry?\n",
      "result =>  {'context': ['What different types of Breaches of Discpline be tried under court of inquiry?'], 'tag': 'Breaches of Discipline \\t\\t  -\\tRA Para 522<br>\\n(a)  Collective Insubordination<br>\\n(b)  MT accidents resulting in death/\\n                serious injury.<br>\\n(c)\\tSuicide, attempted or suspected\\nsuicide.<br>\\n(d)\\tMurder and rape, only when the offence has been committed against a person subject to the Army Act, Navy Act or Air Force Act, or in any of the circumstances mentioned in classes (a), (b) and (c) of Section 70 of the Army Act.\\n'}\n",
      "exit\n",
      "done\n"
     ]
    }
   ],
   "source": [
    "askcoi()"
   ]
  },
  {
   "cell_type": "code",
   "execution_count": 26,
   "metadata": {},
   "outputs": [],
   "source": [
    "demo = {'tag':'adsdsad'}"
   ]
  },
  {
   "cell_type": "code",
   "execution_count": 7,
   "metadata": {},
   "outputs": [
    {
     "ename": "NameError",
     "evalue": "name 'demo' is not defined",
     "output_type": "error",
     "traceback": [
      "\u001b[1;31m---------------------------------------------------------------------------\u001b[0m",
      "\u001b[1;31mNameError\u001b[0m                                 Traceback (most recent call last)",
      "\u001b[1;32m<ipython-input-7-6e14e45b2abc>\u001b[0m in \u001b[0;36m<module>\u001b[1;34m\u001b[0m\n\u001b[1;32m----> 1\u001b[1;33m \u001b[0mresultcoi\u001b[0m \u001b[1;33m=\u001b[0m \u001b[0mes\u001b[0m\u001b[1;33m.\u001b[0m\u001b[0mindex\u001b[0m\u001b[1;33m(\u001b[0m\u001b[0mindex\u001b[0m\u001b[1;33m=\u001b[0m\u001b[1;34m\"demo\"\u001b[0m\u001b[1;33m,\u001b[0m \u001b[0mdoc_type\u001b[0m\u001b[1;33m=\u001b[0m\u001b[1;34m\"sentences\"\u001b[0m\u001b[1;33m,\u001b[0m \u001b[0mid\u001b[0m\u001b[1;33m=\u001b[0m\u001b[1;36m0\u001b[0m\u001b[1;33m,\u001b[0m \u001b[0mbody\u001b[0m\u001b[1;33m=\u001b[0m\u001b[0mdemo\u001b[0m\u001b[1;33m)\u001b[0m\u001b[1;33m\u001b[0m\u001b[1;33m\u001b[0m\u001b[0m\n\u001b[0m\u001b[0;32m      2\u001b[0m \u001b[0mresultcoi\u001b[0m\u001b[1;33m\u001b[0m\u001b[1;33m\u001b[0m\u001b[0m\n",
      "\u001b[1;31mNameError\u001b[0m: name 'demo' is not defined"
     ]
    }
   ],
   "source": [
    "resultcoi = es.index(index=\"demo\", doc_type=\"sentences\", id=0, body=demo)\n",
    "resultcoi"
   ]
  },
  {
   "cell_type": "code",
   "execution_count": null,
   "metadata": {},
   "outputs": [],
   "source": []
  }
 ],
 "metadata": {
  "kernelspec": {
   "display_name": "Python 3",
   "language": "python",
   "name": "python3"
  },
  "language_info": {
   "codemirror_mode": {
    "name": "ipython",
    "version": 3
   },
   "file_extension": ".py",
   "mimetype": "text/x-python",
   "name": "python",
   "nbconvert_exporter": "python",
   "pygments_lexer": "ipython3",
   "version": "3.7.4"
  }
 },
 "nbformat": 4,
 "nbformat_minor": 2
}
