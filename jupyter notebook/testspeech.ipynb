{
 "cells": [
  {
   "cell_type": "code",
   "execution_count": 1,
   "metadata": {},
   "outputs": [],
   "source": [
    "import pandas as pd\n",
    "import speech_recognition as sr\n",
    "r = sr.Recognizer()"
   ]
  },
  {
   "cell_type": "code",
   "execution_count": 3,
   "metadata": {},
   "outputs": [
    {
     "data": {
      "text/plain": [
       "'\\nThe use of what is commonly known as \"bad\" language need not necessarily give rise to a charge either under this section or AA'"
      ]
     },
     "execution_count": 3,
     "metadata": {},
     "output_type": "execute_result"
    }
   ],
   "source": [
    "data40 = pd.read_excel('training_data/40/act40.xlsx')\n",
    "data40['sentences'][123]"
   ]
  },
  {
   "cell_type": "code",
   "execution_count": 4,
   "metadata": {},
   "outputs": [],
   "source": [
    "wavlist = []\n",
    "for index,data in enumerate(data40['sentences']):\n",
    "        print(index)\n",
    "        print(data)\n",
    "        with sr.Microphone(sample_rate=16000) as source:\n",
    "            print(\"Say something!\")\n",
    "            audio = r.listen(source)\n",
    "            with open(str(index)+'.wav','wb') as f:\n",
    "                f.write(audio.get_wav_data())"
   ]
  },
  {
   "cell_type": "code",
   "execution_count": 6,
   "metadata": {},
   "outputs": [],
   "source": [
    "data40.to_excel('act40.xlsx')"
   ]
  },
  {
   "cell_type": "code",
   "execution_count": 22,
   "metadata": {},
   "outputs": [
    {
     "name": "stdout",
     "output_type": "stream",
     "text": [
      "Say something!\n"
     ]
    }
   ],
   "source": [
    "# with sr.Microphone(sample_rate=16000) as source:\n",
    "#         print(\"Say something!\")\n",
    "#         audio = r.listen(source)\n",
    "#         with open('r.wav','wb') as f:\n",
    "#             f.write(audio.get_wav_data())"
   ]
  },
  {
   "cell_type": "code",
   "execution_count": 102,
   "metadata": {},
   "outputs": [
    {
     "name": "stdout",
     "output_type": "stream",
     "text": [
      "the use of what is commonly known as bad language need not necessarily give rise to a charge it or under it a second or a \n"
     ]
    },
    {
     "name": "stderr",
     "output_type": "stream",
     "text": [
      "TensorFlow: v1.14.0-21-ge77504ac6b\n",
      "DeepSpeech: v0.6.1-0-g3df20fe\n",
      "2020-02-06 15:23:41.257342: I tensorflow/core/platform/cpu_feature_guard.cc:142] Your CPU supports instructions that this TensorFlow binary was not compiled to use: AVX2\n",
      "Loading model from file models/output_graph.pbmm\n",
      "Loaded model in 0.0143s.\n",
      "Loading language model from files models/lm.binary models/trie\n",
      "Loaded language model in 0.0129s.\n",
      "Running inference.\n",
      "Inference took 21.657s for 9.984s audio file.\n"
     ]
    }
   ],
   "source": [
    "!deepspeech --model models/output_graph.pbmm --lm models/lm.binary --trie models/trie --audio 123.wav"
   ]
  },
  {
   "cell_type": "code",
   "execution_count": null,
   "metadata": {},
   "outputs": [],
   "source": []
  }
 ],
 "metadata": {
  "kernelspec": {
   "display_name": "Python 3",
   "language": "python",
   "name": "python3"
  },
  "language_info": {
   "codemirror_mode": {
    "name": "ipython",
    "version": 3
   },
   "file_extension": ".py",
   "mimetype": "text/x-python",
   "name": "python",
   "nbconvert_exporter": "python",
   "pygments_lexer": "ipython3",
   "version": "3.7.4"
  }
 },
 "nbformat": 4,
 "nbformat_minor": 2
}
